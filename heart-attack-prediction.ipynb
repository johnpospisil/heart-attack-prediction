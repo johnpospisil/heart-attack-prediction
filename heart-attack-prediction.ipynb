{
 "cells": [
  {
   "cell_type": "markdown",
   "id": "b7fab516",
   "metadata": {
    "execution": {
     "iopub.execute_input": "2024-04-11T16:31:58.682851Z",
     "iopub.status.busy": "2024-04-11T16:31:58.682451Z",
     "iopub.status.idle": "2024-04-11T16:31:58.718967Z",
     "shell.execute_reply": "2024-04-11T16:31:58.718011Z",
     "shell.execute_reply.started": "2024-04-11T16:31:58.682821Z"
    },
    "papermill": {
     "duration": 0.013854,
     "end_time": "2024-04-11T16:46:28.531135",
     "exception": false,
     "start_time": "2024-04-11T16:46:28.517281",
     "status": "completed"
    },
    "tags": []
   },
   "source": [
    "# Heart Attack Predicition - Finding the Best Predictive Model"
   ]
  },
  {
   "cell_type": "markdown",
   "id": "29d57868",
   "metadata": {
    "papermill": {
     "duration": 0.012662,
     "end_time": "2024-04-11T16:46:28.556877",
     "exception": false,
     "start_time": "2024-04-11T16:46:28.544215",
     "status": "completed"
    },
    "tags": []
   },
   "source": [
    "### **Table of Contents**\n",
    "* [<span style=\"color:#A690A4\"> 0. Executive Summary](#exe_sum)\n",
    "* [<span style=\"color:#A690A4\"> 1. Introduction](#intro)\n",
    "* [<span style=\"color:#A690A4\"> 2. Collect, Wrangle & Explore](#process)\n",
    "* [<span style=\"color:#A690A4\"> 3. Predict Life Expectancy](#predict)"
   ]
  },
  {
   "cell_type": "markdown",
   "id": "986dbb1a",
   "metadata": {
    "papermill": {
     "duration": 0.014467,
     "end_time": "2024-04-11T16:46:28.586061",
     "exception": false,
     "start_time": "2024-04-11T16:46:28.571594",
     "status": "completed"
    },
    "tags": []
   },
   "source": [
    "# <span style=\"color:#5E6997\">Executive Summary</span> <a class=\"anchor\" id=\"exe_sum\"></a>"
   ]
  },
  {
   "cell_type": "markdown",
   "id": "a7f32839",
   "metadata": {
    "papermill": {
     "duration": 0.01382,
     "end_time": "2024-04-11T16:46:28.614181",
     "exception": false,
     "start_time": "2024-04-11T16:46:28.600361",
     "status": "completed"
    },
    "tags": []
   },
   "source": [
    "# <span style=\"color:#5E6997\">Introduction</span> <a class=\"anchor\" id=\"intro\"></a>"
   ]
  },
  {
   "cell_type": "markdown",
   "id": "75802117",
   "metadata": {
    "papermill": {
     "duration": 0.013301,
     "end_time": "2024-04-11T16:46:28.643251",
     "exception": false,
     "start_time": "2024-04-11T16:46:28.629950",
     "status": "completed"
    },
    "tags": []
   },
   "source": [
    "# <span style=\"color:#5E6997\">Collect, Wrangle, and Explore</span> <a class=\"anchor\" id=\"process\"></a>"
   ]
  },
  {
   "cell_type": "markdown",
   "id": "9edab583",
   "metadata": {
    "papermill": {
     "duration": 0.013601,
     "end_time": "2024-04-11T16:46:28.669848",
     "exception": false,
     "start_time": "2024-04-11T16:46:28.656247",
     "status": "completed"
    },
    "tags": []
   },
   "source": [
    "Below is data collection and wrangling."
   ]
  },
  {
   "cell_type": "markdown",
   "id": "c4bb83a1",
   "metadata": {
    "papermill": {
     "duration": 0.013113,
     "end_time": "2024-04-11T16:46:28.698023",
     "exception": false,
     "start_time": "2024-04-11T16:46:28.684910",
     "status": "completed"
    },
    "tags": []
   },
   "source": [
    "Data will be explored in this [Tableau chart](https://public.tableau.com/views/HeartAttackAnalysis_17120977864890/Sheet1?:language=en-US&:sid=&:display_count=n&:origin=viz_share_link)."
   ]
  },
  {
   "cell_type": "code",
   "execution_count": 1,
   "id": "65efca3f",
   "metadata": {
    "_cell_guid": "b1076dfc-b9ad-4769-8c92-a6c4dae69d19",
    "_uuid": "8f2839f25d086af736a60e9eeb907d3b93b6e0e5",
    "execution": {
     "iopub.execute_input": "2024-04-11T16:46:28.727715Z",
     "iopub.status.busy": "2024-04-11T16:46:28.726817Z",
     "iopub.status.idle": "2024-04-11T16:46:33.243286Z",
     "shell.execute_reply": "2024-04-11T16:46:33.241704Z"
    },
    "papermill": {
     "duration": 4.534558,
     "end_time": "2024-04-11T16:46:33.246582",
     "exception": false,
     "start_time": "2024-04-11T16:46:28.712024",
     "status": "completed"
    },
    "tags": []
   },
   "outputs": [],
   "source": [
    "import seaborn as sns\n",
    "import numpy as np \n",
    "import pandas as pd \n",
    "import matplotlib.pyplot as plt\n",
    "from sklearn.model_selection import train_test_split\n",
    "from sklearn.preprocessing import StandardScaler \n",
    "from sklearn.svm import SVC\n",
    "from sklearn.linear_model import LogisticRegression\n",
    "import xgboost as xgb\n",
    "from sklearn.metrics import accuracy_score\n",
    "from sklearn.neighbors import KNeighborsClassifier  \n",
    "from sklearn.ensemble import RandomForestRegressor\n",
    "from sklearn.neighbors import KNeighborsClassifier\n",
    "from sklearn.naive_bayes import BernoulliNB\n",
    "from sklearn.naive_bayes import GaussianNB\n",
    "from sklearn.metrics import confusion_matrix\n",
    "import warnings"
   ]
  },
  {
   "cell_type": "code",
   "execution_count": 2,
   "id": "c8116557",
   "metadata": {
    "execution": {
     "iopub.execute_input": "2024-04-11T16:46:33.277395Z",
     "iopub.status.busy": "2024-04-11T16:46:33.276590Z",
     "iopub.status.idle": "2024-04-11T16:46:33.331424Z",
     "shell.execute_reply": "2024-04-11T16:46:33.330022Z"
    },
    "papermill": {
     "duration": 0.07426,
     "end_time": "2024-04-11T16:46:33.334446",
     "exception": false,
     "start_time": "2024-04-11T16:46:33.260186",
     "status": "completed"
    },
    "tags": []
   },
   "outputs": [
    {
     "data": {
      "text/html": [
       "<div>\n",
       "<style scoped>\n",
       "    .dataframe tbody tr th:only-of-type {\n",
       "        vertical-align: middle;\n",
       "    }\n",
       "\n",
       "    .dataframe tbody tr th {\n",
       "        vertical-align: top;\n",
       "    }\n",
       "\n",
       "    .dataframe thead th {\n",
       "        text-align: right;\n",
       "    }\n",
       "</style>\n",
       "<table border=\"1\" class=\"dataframe\">\n",
       "  <thead>\n",
       "    <tr style=\"text-align: right;\">\n",
       "      <th></th>\n",
       "      <th>age</th>\n",
       "      <th>sex</th>\n",
       "      <th>cp</th>\n",
       "      <th>trtbps</th>\n",
       "      <th>chol</th>\n",
       "      <th>fbs</th>\n",
       "      <th>restecg</th>\n",
       "      <th>thalachh</th>\n",
       "      <th>exng</th>\n",
       "      <th>oldpeak</th>\n",
       "      <th>slp</th>\n",
       "      <th>caa</th>\n",
       "      <th>thall</th>\n",
       "      <th>output</th>\n",
       "    </tr>\n",
       "  </thead>\n",
       "  <tbody>\n",
       "    <tr>\n",
       "      <th>0</th>\n",
       "      <td>63</td>\n",
       "      <td>1</td>\n",
       "      <td>3</td>\n",
       "      <td>145</td>\n",
       "      <td>233</td>\n",
       "      <td>1</td>\n",
       "      <td>0</td>\n",
       "      <td>150</td>\n",
       "      <td>0</td>\n",
       "      <td>2.3</td>\n",
       "      <td>0</td>\n",
       "      <td>0</td>\n",
       "      <td>1</td>\n",
       "      <td>1</td>\n",
       "    </tr>\n",
       "    <tr>\n",
       "      <th>1</th>\n",
       "      <td>37</td>\n",
       "      <td>1</td>\n",
       "      <td>2</td>\n",
       "      <td>130</td>\n",
       "      <td>250</td>\n",
       "      <td>0</td>\n",
       "      <td>1</td>\n",
       "      <td>187</td>\n",
       "      <td>0</td>\n",
       "      <td>3.5</td>\n",
       "      <td>0</td>\n",
       "      <td>0</td>\n",
       "      <td>2</td>\n",
       "      <td>1</td>\n",
       "    </tr>\n",
       "    <tr>\n",
       "      <th>2</th>\n",
       "      <td>41</td>\n",
       "      <td>0</td>\n",
       "      <td>1</td>\n",
       "      <td>130</td>\n",
       "      <td>204</td>\n",
       "      <td>0</td>\n",
       "      <td>0</td>\n",
       "      <td>172</td>\n",
       "      <td>0</td>\n",
       "      <td>1.4</td>\n",
       "      <td>2</td>\n",
       "      <td>0</td>\n",
       "      <td>2</td>\n",
       "      <td>1</td>\n",
       "    </tr>\n",
       "    <tr>\n",
       "      <th>3</th>\n",
       "      <td>56</td>\n",
       "      <td>1</td>\n",
       "      <td>1</td>\n",
       "      <td>120</td>\n",
       "      <td>236</td>\n",
       "      <td>0</td>\n",
       "      <td>1</td>\n",
       "      <td>178</td>\n",
       "      <td>0</td>\n",
       "      <td>0.8</td>\n",
       "      <td>2</td>\n",
       "      <td>0</td>\n",
       "      <td>2</td>\n",
       "      <td>1</td>\n",
       "    </tr>\n",
       "    <tr>\n",
       "      <th>4</th>\n",
       "      <td>57</td>\n",
       "      <td>0</td>\n",
       "      <td>0</td>\n",
       "      <td>120</td>\n",
       "      <td>354</td>\n",
       "      <td>0</td>\n",
       "      <td>1</td>\n",
       "      <td>163</td>\n",
       "      <td>1</td>\n",
       "      <td>0.6</td>\n",
       "      <td>2</td>\n",
       "      <td>0</td>\n",
       "      <td>2</td>\n",
       "      <td>1</td>\n",
       "    </tr>\n",
       "  </tbody>\n",
       "</table>\n",
       "</div>"
      ],
      "text/plain": [
       "   age  sex  cp  trtbps  chol  fbs  restecg  thalachh  exng  oldpeak  slp  \\\n",
       "0   63    1   3     145   233    1        0       150     0      2.3    0   \n",
       "1   37    1   2     130   250    0        1       187     0      3.5    0   \n",
       "2   41    0   1     130   204    0        0       172     0      1.4    2   \n",
       "3   56    1   1     120   236    0        1       178     0      0.8    2   \n",
       "4   57    0   0     120   354    0        1       163     1      0.6    2   \n",
       "\n",
       "   caa  thall  output  \n",
       "0    0      1       1  \n",
       "1    0      2       1  \n",
       "2    0      2       1  \n",
       "3    0      2       1  \n",
       "4    0      2       1  "
      ]
     },
     "execution_count": 2,
     "metadata": {},
     "output_type": "execute_result"
    }
   ],
   "source": [
    "df = pd.read_csv('/kaggle/input/heart-attack-analysis-prediction-dataset/heart.csv')\n",
    "df.head()"
   ]
  },
  {
   "cell_type": "code",
   "execution_count": 3,
   "id": "d41d387b",
   "metadata": {
    "execution": {
     "iopub.execute_input": "2024-04-11T16:46:33.365165Z",
     "iopub.status.busy": "2024-04-11T16:46:33.364763Z",
     "iopub.status.idle": "2024-04-11T16:46:33.399231Z",
     "shell.execute_reply": "2024-04-11T16:46:33.397688Z"
    },
    "papermill": {
     "duration": 0.054554,
     "end_time": "2024-04-11T16:46:33.403248",
     "exception": false,
     "start_time": "2024-04-11T16:46:33.348694",
     "status": "completed"
    },
    "tags": []
   },
   "outputs": [
    {
     "name": "stdout",
     "output_type": "stream",
     "text": [
      "<class 'pandas.core.frame.DataFrame'>\n",
      "RangeIndex: 303 entries, 0 to 302\n",
      "Data columns (total 14 columns):\n",
      " #   Column    Non-Null Count  Dtype  \n",
      "---  ------    --------------  -----  \n",
      " 0   age       303 non-null    int64  \n",
      " 1   sex       303 non-null    int64  \n",
      " 2   cp        303 non-null    int64  \n",
      " 3   trtbps    303 non-null    int64  \n",
      " 4   chol      303 non-null    int64  \n",
      " 5   fbs       303 non-null    int64  \n",
      " 6   restecg   303 non-null    int64  \n",
      " 7   thalachh  303 non-null    int64  \n",
      " 8   exng      303 non-null    int64  \n",
      " 9   oldpeak   303 non-null    float64\n",
      " 10  slp       303 non-null    int64  \n",
      " 11  caa       303 non-null    int64  \n",
      " 12  thall     303 non-null    int64  \n",
      " 13  output    303 non-null    int64  \n",
      "dtypes: float64(1), int64(13)\n",
      "memory usage: 33.3 KB\n"
     ]
    }
   ],
   "source": [
    "df.info()"
   ]
  },
  {
   "cell_type": "code",
   "execution_count": 4,
   "id": "42998653",
   "metadata": {
    "execution": {
     "iopub.execute_input": "2024-04-11T16:46:33.435521Z",
     "iopub.status.busy": "2024-04-11T16:46:33.434457Z",
     "iopub.status.idle": "2024-04-11T16:46:33.499474Z",
     "shell.execute_reply": "2024-04-11T16:46:33.497761Z"
    },
    "papermill": {
     "duration": 0.083539,
     "end_time": "2024-04-11T16:46:33.502346",
     "exception": false,
     "start_time": "2024-04-11T16:46:33.418807",
     "status": "completed"
    },
    "tags": []
   },
   "outputs": [
    {
     "data": {
      "text/html": [
       "<div>\n",
       "<style scoped>\n",
       "    .dataframe tbody tr th:only-of-type {\n",
       "        vertical-align: middle;\n",
       "    }\n",
       "\n",
       "    .dataframe tbody tr th {\n",
       "        vertical-align: top;\n",
       "    }\n",
       "\n",
       "    .dataframe thead th {\n",
       "        text-align: right;\n",
       "    }\n",
       "</style>\n",
       "<table border=\"1\" class=\"dataframe\">\n",
       "  <thead>\n",
       "    <tr style=\"text-align: right;\">\n",
       "      <th></th>\n",
       "      <th>age</th>\n",
       "      <th>sex</th>\n",
       "      <th>cp</th>\n",
       "      <th>trtbps</th>\n",
       "      <th>chol</th>\n",
       "      <th>fbs</th>\n",
       "      <th>restecg</th>\n",
       "      <th>thalachh</th>\n",
       "      <th>exng</th>\n",
       "      <th>oldpeak</th>\n",
       "      <th>slp</th>\n",
       "      <th>caa</th>\n",
       "      <th>thall</th>\n",
       "      <th>output</th>\n",
       "    </tr>\n",
       "  </thead>\n",
       "  <tbody>\n",
       "    <tr>\n",
       "      <th>count</th>\n",
       "      <td>303.000000</td>\n",
       "      <td>303.000000</td>\n",
       "      <td>303.000000</td>\n",
       "      <td>303.000000</td>\n",
       "      <td>303.000000</td>\n",
       "      <td>303.000000</td>\n",
       "      <td>303.000000</td>\n",
       "      <td>303.000000</td>\n",
       "      <td>303.000000</td>\n",
       "      <td>303.000000</td>\n",
       "      <td>303.000000</td>\n",
       "      <td>303.000000</td>\n",
       "      <td>303.000000</td>\n",
       "      <td>303.000000</td>\n",
       "    </tr>\n",
       "    <tr>\n",
       "      <th>mean</th>\n",
       "      <td>54.366337</td>\n",
       "      <td>0.683168</td>\n",
       "      <td>0.966997</td>\n",
       "      <td>131.623762</td>\n",
       "      <td>246.264026</td>\n",
       "      <td>0.148515</td>\n",
       "      <td>0.528053</td>\n",
       "      <td>149.646865</td>\n",
       "      <td>0.326733</td>\n",
       "      <td>1.039604</td>\n",
       "      <td>1.399340</td>\n",
       "      <td>0.729373</td>\n",
       "      <td>2.313531</td>\n",
       "      <td>0.544554</td>\n",
       "    </tr>\n",
       "    <tr>\n",
       "      <th>std</th>\n",
       "      <td>9.082101</td>\n",
       "      <td>0.466011</td>\n",
       "      <td>1.032052</td>\n",
       "      <td>17.538143</td>\n",
       "      <td>51.830751</td>\n",
       "      <td>0.356198</td>\n",
       "      <td>0.525860</td>\n",
       "      <td>22.905161</td>\n",
       "      <td>0.469794</td>\n",
       "      <td>1.161075</td>\n",
       "      <td>0.616226</td>\n",
       "      <td>1.022606</td>\n",
       "      <td>0.612277</td>\n",
       "      <td>0.498835</td>\n",
       "    </tr>\n",
       "    <tr>\n",
       "      <th>min</th>\n",
       "      <td>29.000000</td>\n",
       "      <td>0.000000</td>\n",
       "      <td>0.000000</td>\n",
       "      <td>94.000000</td>\n",
       "      <td>126.000000</td>\n",
       "      <td>0.000000</td>\n",
       "      <td>0.000000</td>\n",
       "      <td>71.000000</td>\n",
       "      <td>0.000000</td>\n",
       "      <td>0.000000</td>\n",
       "      <td>0.000000</td>\n",
       "      <td>0.000000</td>\n",
       "      <td>0.000000</td>\n",
       "      <td>0.000000</td>\n",
       "    </tr>\n",
       "    <tr>\n",
       "      <th>25%</th>\n",
       "      <td>47.500000</td>\n",
       "      <td>0.000000</td>\n",
       "      <td>0.000000</td>\n",
       "      <td>120.000000</td>\n",
       "      <td>211.000000</td>\n",
       "      <td>0.000000</td>\n",
       "      <td>0.000000</td>\n",
       "      <td>133.500000</td>\n",
       "      <td>0.000000</td>\n",
       "      <td>0.000000</td>\n",
       "      <td>1.000000</td>\n",
       "      <td>0.000000</td>\n",
       "      <td>2.000000</td>\n",
       "      <td>0.000000</td>\n",
       "    </tr>\n",
       "    <tr>\n",
       "      <th>50%</th>\n",
       "      <td>55.000000</td>\n",
       "      <td>1.000000</td>\n",
       "      <td>1.000000</td>\n",
       "      <td>130.000000</td>\n",
       "      <td>240.000000</td>\n",
       "      <td>0.000000</td>\n",
       "      <td>1.000000</td>\n",
       "      <td>153.000000</td>\n",
       "      <td>0.000000</td>\n",
       "      <td>0.800000</td>\n",
       "      <td>1.000000</td>\n",
       "      <td>0.000000</td>\n",
       "      <td>2.000000</td>\n",
       "      <td>1.000000</td>\n",
       "    </tr>\n",
       "    <tr>\n",
       "      <th>75%</th>\n",
       "      <td>61.000000</td>\n",
       "      <td>1.000000</td>\n",
       "      <td>2.000000</td>\n",
       "      <td>140.000000</td>\n",
       "      <td>274.500000</td>\n",
       "      <td>0.000000</td>\n",
       "      <td>1.000000</td>\n",
       "      <td>166.000000</td>\n",
       "      <td>1.000000</td>\n",
       "      <td>1.600000</td>\n",
       "      <td>2.000000</td>\n",
       "      <td>1.000000</td>\n",
       "      <td>3.000000</td>\n",
       "      <td>1.000000</td>\n",
       "    </tr>\n",
       "    <tr>\n",
       "      <th>max</th>\n",
       "      <td>77.000000</td>\n",
       "      <td>1.000000</td>\n",
       "      <td>3.000000</td>\n",
       "      <td>200.000000</td>\n",
       "      <td>564.000000</td>\n",
       "      <td>1.000000</td>\n",
       "      <td>2.000000</td>\n",
       "      <td>202.000000</td>\n",
       "      <td>1.000000</td>\n",
       "      <td>6.200000</td>\n",
       "      <td>2.000000</td>\n",
       "      <td>4.000000</td>\n",
       "      <td>3.000000</td>\n",
       "      <td>1.000000</td>\n",
       "    </tr>\n",
       "  </tbody>\n",
       "</table>\n",
       "</div>"
      ],
      "text/plain": [
       "              age         sex          cp      trtbps        chol         fbs  \\\n",
       "count  303.000000  303.000000  303.000000  303.000000  303.000000  303.000000   \n",
       "mean    54.366337    0.683168    0.966997  131.623762  246.264026    0.148515   \n",
       "std      9.082101    0.466011    1.032052   17.538143   51.830751    0.356198   \n",
       "min     29.000000    0.000000    0.000000   94.000000  126.000000    0.000000   \n",
       "25%     47.500000    0.000000    0.000000  120.000000  211.000000    0.000000   \n",
       "50%     55.000000    1.000000    1.000000  130.000000  240.000000    0.000000   \n",
       "75%     61.000000    1.000000    2.000000  140.000000  274.500000    0.000000   \n",
       "max     77.000000    1.000000    3.000000  200.000000  564.000000    1.000000   \n",
       "\n",
       "          restecg    thalachh        exng     oldpeak         slp         caa  \\\n",
       "count  303.000000  303.000000  303.000000  303.000000  303.000000  303.000000   \n",
       "mean     0.528053  149.646865    0.326733    1.039604    1.399340    0.729373   \n",
       "std      0.525860   22.905161    0.469794    1.161075    0.616226    1.022606   \n",
       "min      0.000000   71.000000    0.000000    0.000000    0.000000    0.000000   \n",
       "25%      0.000000  133.500000    0.000000    0.000000    1.000000    0.000000   \n",
       "50%      1.000000  153.000000    0.000000    0.800000    1.000000    0.000000   \n",
       "75%      1.000000  166.000000    1.000000    1.600000    2.000000    1.000000   \n",
       "max      2.000000  202.000000    1.000000    6.200000    2.000000    4.000000   \n",
       "\n",
       "            thall      output  \n",
       "count  303.000000  303.000000  \n",
       "mean     2.313531    0.544554  \n",
       "std      0.612277    0.498835  \n",
       "min      0.000000    0.000000  \n",
       "25%      2.000000    0.000000  \n",
       "50%      2.000000    1.000000  \n",
       "75%      3.000000    1.000000  \n",
       "max      3.000000    1.000000  "
      ]
     },
     "execution_count": 4,
     "metadata": {},
     "output_type": "execute_result"
    }
   ],
   "source": [
    "df.describe()"
   ]
  },
  {
   "cell_type": "markdown",
   "id": "453f999a",
   "metadata": {
    "papermill": {
     "duration": 0.013548,
     "end_time": "2024-04-11T16:46:33.530080",
     "exception": false,
     "start_time": "2024-04-11T16:46:33.516532",
     "status": "completed"
    },
    "tags": []
   },
   "source": [
    "Check for any NULL values."
   ]
  },
  {
   "cell_type": "code",
   "execution_count": 5,
   "id": "efbad554",
   "metadata": {
    "execution": {
     "iopub.execute_input": "2024-04-11T16:46:33.560444Z",
     "iopub.status.busy": "2024-04-11T16:46:33.559981Z",
     "iopub.status.idle": "2024-04-11T16:46:33.568552Z",
     "shell.execute_reply": "2024-04-11T16:46:33.567511Z"
    },
    "papermill": {
     "duration": 0.026246,
     "end_time": "2024-04-11T16:46:33.570680",
     "exception": false,
     "start_time": "2024-04-11T16:46:33.544434",
     "status": "completed"
    },
    "tags": []
   },
   "outputs": [
    {
     "data": {
      "text/plain": [
       "age         0\n",
       "sex         0\n",
       "cp          0\n",
       "trtbps      0\n",
       "chol        0\n",
       "fbs         0\n",
       "restecg     0\n",
       "thalachh    0\n",
       "exng        0\n",
       "oldpeak     0\n",
       "slp         0\n",
       "caa         0\n",
       "thall       0\n",
       "output      0\n",
       "dtype: int64"
      ]
     },
     "execution_count": 5,
     "metadata": {},
     "output_type": "execute_result"
    }
   ],
   "source": [
    "df.isnull().sum()"
   ]
  },
  {
   "cell_type": "markdown",
   "id": "16469871",
   "metadata": {
    "papermill": {
     "duration": 0.013578,
     "end_time": "2024-04-11T16:46:33.598074",
     "exception": false,
     "start_time": "2024-04-11T16:46:33.584496",
     "status": "completed"
    },
    "tags": []
   },
   "source": [
    "Check for duplicates."
   ]
  },
  {
   "cell_type": "code",
   "execution_count": 6,
   "id": "0fe5b4dc",
   "metadata": {
    "execution": {
     "iopub.execute_input": "2024-04-11T16:46:33.627820Z",
     "iopub.status.busy": "2024-04-11T16:46:33.627388Z",
     "iopub.status.idle": "2024-04-11T16:46:33.638111Z",
     "shell.execute_reply": "2024-04-11T16:46:33.636596Z"
    },
    "papermill": {
     "duration": 0.028836,
     "end_time": "2024-04-11T16:46:33.640761",
     "exception": false,
     "start_time": "2024-04-11T16:46:33.611925",
     "status": "completed"
    },
    "tags": []
   },
   "outputs": [
    {
     "data": {
      "text/plain": [
       "1"
      ]
     },
     "execution_count": 6,
     "metadata": {},
     "output_type": "execute_result"
    }
   ],
   "source": [
    "df.duplicated().sum()"
   ]
  },
  {
   "cell_type": "code",
   "execution_count": 7,
   "id": "8d479d6c",
   "metadata": {
    "execution": {
     "iopub.execute_input": "2024-04-11T16:46:33.671391Z",
     "iopub.status.busy": "2024-04-11T16:46:33.670934Z",
     "iopub.status.idle": "2024-04-11T16:46:33.679994Z",
     "shell.execute_reply": "2024-04-11T16:46:33.678252Z"
    },
    "papermill": {
     "duration": 0.027979,
     "end_time": "2024-04-11T16:46:33.682838",
     "exception": false,
     "start_time": "2024-04-11T16:46:33.654859",
     "status": "completed"
    },
    "tags": []
   },
   "outputs": [
    {
     "data": {
      "text/plain": [
       "(303, 14)"
      ]
     },
     "execution_count": 7,
     "metadata": {},
     "output_type": "execute_result"
    }
   ],
   "source": [
    "df.shape"
   ]
  },
  {
   "cell_type": "code",
   "execution_count": 8,
   "id": "a5b05cbf",
   "metadata": {
    "execution": {
     "iopub.execute_input": "2024-04-11T16:46:33.716009Z",
     "iopub.status.busy": "2024-04-11T16:46:33.714851Z",
     "iopub.status.idle": "2024-04-11T16:46:33.728552Z",
     "shell.execute_reply": "2024-04-11T16:46:33.726315Z"
    },
    "papermill": {
     "duration": 0.033736,
     "end_time": "2024-04-11T16:46:33.732146",
     "exception": false,
     "start_time": "2024-04-11T16:46:33.698410",
     "status": "completed"
    },
    "tags": []
   },
   "outputs": [],
   "source": [
    "df = df.drop_duplicates()"
   ]
  },
  {
   "cell_type": "code",
   "execution_count": 9,
   "id": "21b63c3e",
   "metadata": {
    "execution": {
     "iopub.execute_input": "2024-04-11T16:46:33.766164Z",
     "iopub.status.busy": "2024-04-11T16:46:33.764505Z",
     "iopub.status.idle": "2024-04-11T16:46:33.773278Z",
     "shell.execute_reply": "2024-04-11T16:46:33.772058Z"
    },
    "papermill": {
     "duration": 0.028568,
     "end_time": "2024-04-11T16:46:33.775827",
     "exception": false,
     "start_time": "2024-04-11T16:46:33.747259",
     "status": "completed"
    },
    "tags": []
   },
   "outputs": [
    {
     "data": {
      "text/plain": [
       "(302, 14)"
      ]
     },
     "execution_count": 9,
     "metadata": {},
     "output_type": "execute_result"
    }
   ],
   "source": [
    "df.shape"
   ]
  },
  {
   "cell_type": "markdown",
   "id": "672d0455",
   "metadata": {
    "papermill": {
     "duration": 0.014303,
     "end_time": "2024-04-11T16:46:33.804739",
     "exception": false,
     "start_time": "2024-04-11T16:46:33.790436",
     "status": "completed"
    },
    "tags": []
   },
   "source": [
    "Create the correlation matrix."
   ]
  },
  {
   "cell_type": "code",
   "execution_count": 10,
   "id": "ddb24f2d",
   "metadata": {
    "execution": {
     "iopub.execute_input": "2024-04-11T16:46:33.835948Z",
     "iopub.status.busy": "2024-04-11T16:46:33.835452Z",
     "iopub.status.idle": "2024-04-11T16:46:33.845012Z",
     "shell.execute_reply": "2024-04-11T16:46:33.843294Z"
    },
    "papermill": {
     "duration": 0.028453,
     "end_time": "2024-04-11T16:46:33.847759",
     "exception": false,
     "start_time": "2024-04-11T16:46:33.819306",
     "status": "completed"
    },
    "tags": []
   },
   "outputs": [],
   "source": [
    "correlation_matrix = df.corr()"
   ]
  },
  {
   "cell_type": "code",
   "execution_count": 11,
   "id": "9cd81ef5",
   "metadata": {
    "execution": {
     "iopub.execute_input": "2024-04-11T16:46:33.882453Z",
     "iopub.status.busy": "2024-04-11T16:46:33.881985Z",
     "iopub.status.idle": "2024-04-11T16:46:34.863400Z",
     "shell.execute_reply": "2024-04-11T16:46:34.861925Z"
    },
    "papermill": {
     "duration": 1.004042,
     "end_time": "2024-04-11T16:46:34.867742",
     "exception": false,
     "start_time": "2024-04-11T16:46:33.863700",
     "status": "completed"
    },
    "tags": []
   },
   "outputs": [
    {
     "data": {
      "image/png": "[encoded data removed]",
      "text/plain": [
       "<Figure size 800x800 with 2 Axes>"
      ]
     },
     "metadata": {},
     "output_type": "display_data"
    }
   ],
   "source": [
    "plt.figure(figsize=(8, 8))\n",
    "sns.heatmap(correlation_matrix, annot=True, cmap='coolwarm', fmt=\".1f\", square=True)\n",
    "plt.title(\"Correlation Heatmap\")\n",
    "plt.show()"
   ]
  },
  {
   "cell_type": "code",
   "execution_count": 12,
   "id": "7e2502e7",
   "metadata": {
    "execution": {
     "iopub.execute_input": "2024-04-11T16:46:34.904754Z",
     "iopub.status.busy": "2024-04-11T16:46:34.903552Z",
     "iopub.status.idle": "2024-04-11T16:46:34.916837Z",
     "shell.execute_reply": "2024-04-11T16:46:34.915074Z"
    },
    "papermill": {
     "duration": 0.035508,
     "end_time": "2024-04-11T16:46:34.920197",
     "exception": false,
     "start_time": "2024-04-11T16:46:34.884689",
     "status": "completed"
    },
    "tags": []
   },
   "outputs": [
    {
     "data": {
      "text/plain": [
       "output      1.000000\n",
       "cp          0.432080\n",
       "thalachh    0.419955\n",
       "slp         0.343940\n",
       "restecg     0.134874\n",
       "fbs        -0.026826\n",
       "chol       -0.081437\n",
       "trtbps     -0.146269\n",
       "age        -0.221476\n",
       "sex        -0.283609\n",
       "thall      -0.343101\n",
       "caa        -0.408992\n",
       "oldpeak    -0.429146\n",
       "exng       -0.435601\n",
       "Name: output, dtype: float64"
      ]
     },
     "execution_count": 12,
     "metadata": {},
     "output_type": "execute_result"
    }
   ],
   "source": [
    "df.corr()['output'].sort_values(ascending=False)"
   ]
  },
  {
   "cell_type": "markdown",
   "id": "c601ee59",
   "metadata": {
    "papermill": {
     "duration": 0.016656,
     "end_time": "2024-04-11T16:46:34.954604",
     "exception": false,
     "start_time": "2024-04-11T16:46:34.937948",
     "status": "completed"
    },
    "tags": []
   },
   "source": [
    "Split the data into a training, and testing set."
   ]
  },
  {
   "cell_type": "code",
   "execution_count": 13,
   "id": "32dd5468",
   "metadata": {
    "execution": {
     "iopub.execute_input": "2024-04-11T16:46:34.991547Z",
     "iopub.status.busy": "2024-04-11T16:46:34.989943Z",
     "iopub.status.idle": "2024-04-11T16:46:34.999031Z",
     "shell.execute_reply": "2024-04-11T16:46:34.997052Z"
    },
    "papermill": {
     "duration": 0.030505,
     "end_time": "2024-04-11T16:46:35.001959",
     "exception": false,
     "start_time": "2024-04-11T16:46:34.971454",
     "status": "completed"
    },
    "tags": []
   },
   "outputs": [],
   "source": [
    "X = df.iloc[:, 1:-1].values\n",
    "y = df.output"
   ]
  },
  {
   "cell_type": "code",
   "execution_count": 14,
   "id": "84bce189",
   "metadata": {
    "execution": {
     "iopub.execute_input": "2024-04-11T16:46:35.038279Z",
     "iopub.status.busy": "2024-04-11T16:46:35.037753Z",
     "iopub.status.idle": "2024-04-11T16:46:35.047583Z",
     "shell.execute_reply": "2024-04-11T16:46:35.046239Z"
    },
    "papermill": {
     "duration": 0.03171,
     "end_time": "2024-04-11T16:46:35.050426",
     "exception": false,
     "start_time": "2024-04-11T16:46:35.018716",
     "status": "completed"
    },
    "tags": []
   },
   "outputs": [],
   "source": [
    "X_train, X_test, y_train, y_test = train_test_split(X, y, test_size= 0.2, random_state= 0)"
   ]
  },
  {
   "cell_type": "markdown",
   "id": "9d19b29d",
   "metadata": {
    "papermill": {
     "duration": 0.016467,
     "end_time": "2024-04-11T16:46:35.083972",
     "exception": false,
     "start_time": "2024-04-11T16:46:35.067505",
     "status": "completed"
    },
    "tags": []
   },
   "source": [
    "Feature Scaling."
   ]
  },
  {
   "cell_type": "code",
   "execution_count": 15,
   "id": "cbec50da",
   "metadata": {
    "execution": {
     "iopub.execute_input": "2024-04-11T16:46:35.119958Z",
     "iopub.status.busy": "2024-04-11T16:46:35.119188Z",
     "iopub.status.idle": "2024-04-11T16:46:35.126193Z",
     "shell.execute_reply": "2024-04-11T16:46:35.125265Z"
    },
    "papermill": {
     "duration": 0.028435,
     "end_time": "2024-04-11T16:46:35.129042",
     "exception": false,
     "start_time": "2024-04-11T16:46:35.100607",
     "status": "completed"
    },
    "tags": []
   },
   "outputs": [],
   "source": [
    "scaler = StandardScaler()\n",
    "X_train = scaler.fit_transform(X_train)\n",
    "X_test = scaler.transform(X_test)"
   ]
  },
  {
   "cell_type": "markdown",
   "id": "09852647",
   "metadata": {
    "papermill": {
     "duration": 0.015882,
     "end_time": "2024-04-11T16:46:35.162354",
     "exception": false,
     "start_time": "2024-04-11T16:46:35.146472",
     "status": "completed"
    },
    "tags": []
   },
   "source": [
    "# <span style=\"color:#5E6997\">Predict Heart Attacks</span> <a class=\"anchor\" id=\"predict\"></a>"
   ]
  },
  {
   "cell_type": "markdown",
   "id": "ce1706b0",
   "metadata": {
    "papermill": {
     "duration": 0.016523,
     "end_time": "2024-04-11T16:46:35.196796",
     "exception": false,
     "start_time": "2024-04-11T16:46:35.180273",
     "status": "completed"
    },
    "tags": []
   },
   "source": [
    "1. Logistic Regression"
   ]
  },
  {
   "cell_type": "code",
   "execution_count": 16,
   "id": "f599c55b",
   "metadata": {
    "execution": {
     "iopub.execute_input": "2024-04-11T16:46:35.235030Z",
     "iopub.status.busy": "2024-04-11T16:46:35.233777Z",
     "iopub.status.idle": "2024-04-11T16:46:35.259037Z",
     "shell.execute_reply": "2024-04-11T16:46:35.257427Z"
    },
    "papermill": {
     "duration": 0.048158,
     "end_time": "2024-04-11T16:46:35.261939",
     "exception": false,
     "start_time": "2024-04-11T16:46:35.213781",
     "status": "completed"
    },
    "tags": []
   },
   "outputs": [
    {
     "name": "stdout",
     "output_type": "stream",
     "text": [
      "Confusion Matrix : \n",
      " [[23  4]\n",
      " [ 3 31]]\n",
      "\n",
      "\n",
      "The accuracy of Logistic Regression is :  88.52459016393442 %\n"
     ]
    }
   ],
   "source": [
    "model = LogisticRegression()\n",
    "model.fit(X_train, y_train)\n",
    "predicted=model.predict(X_test)\n",
    "conf = confusion_matrix(y_test, predicted)\n",
    "print (\"Confusion Matrix : \\n\", conf)\n",
    "print()\n",
    "print()\n",
    "print (\"The accuracy of Logistic Regression is : \", accuracy_score(y_test, predicted)*100, \"%\")"
   ]
  },
  {
   "cell_type": "markdown",
   "id": "ac2ddab1",
   "metadata": {
    "papermill": {
     "duration": 0.018204,
     "end_time": "2024-04-11T16:46:35.298700",
     "exception": false,
     "start_time": "2024-04-11T16:46:35.280496",
     "status": "completed"
    },
    "tags": []
   },
   "source": [
    "2. Gaussian Naive Bayes"
   ]
  },
  {
   "cell_type": "code",
   "execution_count": 17,
   "id": "ef190b24",
   "metadata": {
    "execution": {
     "iopub.execute_input": "2024-04-11T16:46:35.338469Z",
     "iopub.status.busy": "2024-04-11T16:46:35.337754Z",
     "iopub.status.idle": "2024-04-11T16:46:35.347572Z",
     "shell.execute_reply": "2024-04-11T16:46:35.346421Z"
    },
    "papermill": {
     "duration": 0.032993,
     "end_time": "2024-04-11T16:46:35.350572",
     "exception": false,
     "start_time": "2024-04-11T16:46:35.317579",
     "status": "completed"
    },
    "tags": []
   },
   "outputs": [
    {
     "name": "stdout",
     "output_type": "stream",
     "text": [
      "The accuracy of Gaussian Naive Bayes model is :  88.52459016393442 %\n"
     ]
    }
   ],
   "source": [
    "model = GaussianNB()\n",
    "model.fit(X_train, y_train)\n",
    "  \n",
    "predicted = model.predict(X_test)\n",
    "  \n",
    "print(\"The accuracy of Gaussian Naive Bayes model is : \", accuracy_score(y_test, predicted)*100, \"%\")"
   ]
  },
  {
   "cell_type": "markdown",
   "id": "b1b09843",
   "metadata": {
    "papermill": {
     "duration": 0.016761,
     "end_time": "2024-04-11T16:46:35.384236",
     "exception": false,
     "start_time": "2024-04-11T16:46:35.367475",
     "status": "completed"
    },
    "tags": []
   },
   "source": [
    "3.Bernoulli Naive Bayes"
   ]
  },
  {
   "cell_type": "code",
   "execution_count": 18,
   "id": "1570b659",
   "metadata": {
    "execution": {
     "iopub.execute_input": "2024-04-11T16:46:35.420933Z",
     "iopub.status.busy": "2024-04-11T16:46:35.419195Z",
     "iopub.status.idle": "2024-04-11T16:46:35.439014Z",
     "shell.execute_reply": "2024-04-11T16:46:35.437223Z"
    },
    "papermill": {
     "duration": 0.040951,
     "end_time": "2024-04-11T16:46:35.442016",
     "exception": false,
     "start_time": "2024-04-11T16:46:35.401065",
     "status": "completed"
    },
    "tags": []
   },
   "outputs": [
    {
     "name": "stdout",
     "output_type": "stream",
     "text": [
      "The accuracy of Gaussian Naive Bayes model is :  86.88524590163934 %\n"
     ]
    }
   ],
   "source": [
    "model = BernoulliNB()\n",
    "model.fit(X_train, y_train)\n",
    "  \n",
    "predicted = model.predict(X_test)\n",
    "  \n",
    "print(\"The accuracy of Gaussian Naive Bayes model is : \", accuracy_score(y_test, predicted)*100, \"%\")"
   ]
  },
  {
   "cell_type": "markdown",
   "id": "73191501",
   "metadata": {
    "execution": {
     "iopub.execute_input": "2024-03-26T05:02:38.522223Z",
     "iopub.status.busy": "2024-03-26T05:02:38.521768Z",
     "iopub.status.idle": "2024-03-26T05:02:38.529145Z",
     "shell.execute_reply": "2024-03-26T05:02:38.527523Z",
     "shell.execute_reply.started": "2024-03-26T05:02:38.522173Z"
    },
    "papermill": {
     "duration": 0.017696,
     "end_time": "2024-04-11T16:46:35.477730",
     "exception": false,
     "start_time": "2024-04-11T16:46:35.460034",
     "status": "completed"
    },
    "tags": []
   },
   "source": [
    "4. Support Vector Machine"
   ]
  },
  {
   "cell_type": "code",
   "execution_count": 19,
   "id": "d6cc5ba3",
   "metadata": {
    "execution": {
     "iopub.execute_input": "2024-04-11T16:46:35.514941Z",
     "iopub.status.busy": "2024-04-11T16:46:35.514023Z",
     "iopub.status.idle": "2024-04-11T16:46:35.528752Z",
     "shell.execute_reply": "2024-04-11T16:46:35.527195Z"
    },
    "papermill": {
     "duration": 0.035342,
     "end_time": "2024-04-11T16:46:35.531326",
     "exception": false,
     "start_time": "2024-04-11T16:46:35.495984",
     "status": "completed"
    },
    "tags": []
   },
   "outputs": [
    {
     "name": "stdout",
     "output_type": "stream",
     "text": [
      "The accuracy of SVM is :  91.80327868852459 %\n"
     ]
    }
   ],
   "source": [
    "model = SVC()\n",
    "model.fit(X_train, y_train)\n",
    "  \n",
    "predicted = model.predict(X_test)\n",
    "print(\"The accuracy of SVM is : \", accuracy_score(y_test, predicted)*100, \"%\")"
   ]
  },
  {
   "cell_type": "markdown",
   "id": "ae3cccd4",
   "metadata": {
    "papermill": {
     "duration": 0.017099,
     "end_time": "2024-04-11T16:46:35.565073",
     "exception": false,
     "start_time": "2024-04-11T16:46:35.547974",
     "status": "completed"
    },
    "tags": []
   },
   "source": [
    "5. Random Forest"
   ]
  },
  {
   "cell_type": "code",
   "execution_count": 20,
   "id": "3d2759b6",
   "metadata": {
    "execution": {
     "iopub.execute_input": "2024-04-11T16:46:35.600552Z",
     "iopub.status.busy": "2024-04-11T16:46:35.600165Z",
     "iopub.status.idle": "2024-04-11T16:46:35.873562Z",
     "shell.execute_reply": "2024-04-11T16:46:35.871794Z"
    },
    "papermill": {
     "duration": 0.294941,
     "end_time": "2024-04-11T16:46:35.876816",
     "exception": false,
     "start_time": "2024-04-11T16:46:35.581875",
     "status": "completed"
    },
    "tags": []
   },
   "outputs": [
    {
     "name": "stdout",
     "output_type": "stream",
     "text": [
      "The accuracy of Random Forest is :  85.24590163934425 %\n"
     ]
    }
   ],
   "source": [
    "model = RandomForestRegressor(n_estimators = 100, random_state = 0)  \n",
    "model.fit(X_train, y_train)  \n",
    "predicted = model.predict(X_test)\n",
    "print(\"The accuracy of Random Forest is : \", accuracy_score(y_test, predicted.round())*100, \"%\")"
   ]
  },
  {
   "cell_type": "markdown",
   "id": "f07d22e5",
   "metadata": {
    "papermill": {
     "duration": 0.088689,
     "end_time": "2024-04-11T16:46:35.983417",
     "exception": false,
     "start_time": "2024-04-11T16:46:35.894728",
     "status": "completed"
    },
    "tags": []
   },
   "source": [
    "6. K Nearest Neighbors"
   ]
  },
  {
   "cell_type": "code",
   "execution_count": 21,
   "id": "9d298156",
   "metadata": {
    "execution": {
     "iopub.execute_input": "2024-04-11T16:46:36.024017Z",
     "iopub.status.busy": "2024-04-11T16:46:36.023579Z",
     "iopub.status.idle": "2024-04-11T16:46:36.044863Z",
     "shell.execute_reply": "2024-04-11T16:46:36.042726Z"
    },
    "papermill": {
     "duration": 0.045965,
     "end_time": "2024-04-11T16:46:36.048456",
     "exception": false,
     "start_time": "2024-04-11T16:46:36.002491",
     "status": "completed"
    },
    "tags": []
   },
   "outputs": [
    {
     "name": "stdout",
     "output_type": "stream",
     "text": [
      "[[23  4]\n",
      " [ 6 28]]\n",
      "The accuracy of KNN is :  83.60655737704919 %\n"
     ]
    }
   ],
   "source": [
    "model = KNeighborsClassifier(n_neighbors = 1)  \n",
    "model.fit(X_train, y_train)\n",
    "predicted = model.predict(X_test)\n",
    "  \n",
    "\n",
    "print(confusion_matrix(y_test, predicted))\n",
    "print(\"The accuracy of KNN is : \", accuracy_score(y_test, predicted.round())*100, \"%\")"
   ]
  },
  {
   "cell_type": "code",
   "execution_count": 22,
   "id": "1d52fdc9",
   "metadata": {
    "execution": {
     "iopub.execute_input": "2024-04-11T16:46:36.088276Z",
     "iopub.status.busy": "2024-04-11T16:46:36.087890Z",
     "iopub.status.idle": "2024-04-11T16:46:36.749789Z",
     "shell.execute_reply": "2024-04-11T16:46:36.748480Z"
    },
    "papermill": {
     "duration": 0.685605,
     "end_time": "2024-04-11T16:46:36.752569",
     "exception": false,
     "start_time": "2024-04-11T16:46:36.066964",
     "status": "completed"
    },
    "tags": []
   },
   "outputs": [
    {
     "data": {
      "text/plain": [
       "Text(0, 0.5, 'Error Rate')"
      ]
     },
     "execution_count": 22,
     "metadata": {},
     "output_type": "execute_result"
    },
    {
     "data": {
      "image/png": "[encoded data removed]",
      "text/plain": [
       "<Figure size 1000x600 with 1 Axes>"
      ]
     },
     "metadata": {},
     "output_type": "display_data"
    }
   ],
   "source": [
    "error_rate = []\n",
    "  \n",
    "for i in range(1, 40):\n",
    "      \n",
    "    model = KNeighborsClassifier(n_neighbors = i)\n",
    "    model.fit(X_train, y_train)\n",
    "    pred_i = model.predict(X_test)\n",
    "    error_rate.append(np.mean(pred_i != y_test))\n",
    "  \n",
    "plt.figure(figsize =(10, 6))\n",
    "plt.plot(range(1, 40), error_rate, color ='blue',\n",
    "                linestyle ='dashed', marker ='o',\n",
    "         markerfacecolor ='red', markersize = 10)\n",
    "  \n",
    "plt.title('Error Rate vs. K Value')\n",
    "plt.xlabel('K')\n",
    "plt.ylabel('Error Rate')"
   ]
  },
  {
   "cell_type": "code",
   "execution_count": 23,
   "id": "f653ce7b",
   "metadata": {
    "execution": {
     "iopub.execute_input": "2024-04-11T16:46:36.792529Z",
     "iopub.status.busy": "2024-04-11T16:46:36.791392Z",
     "iopub.status.idle": "2024-04-11T16:46:36.811447Z",
     "shell.execute_reply": "2024-04-11T16:46:36.810279Z"
    },
    "papermill": {
     "duration": 0.043602,
     "end_time": "2024-04-11T16:46:36.814502",
     "exception": false,
     "start_time": "2024-04-11T16:46:36.770900",
     "status": "completed"
    },
    "tags": []
   },
   "outputs": [
    {
     "name": "stdout",
     "output_type": "stream",
     "text": [
      "Confusion Matrix :\n",
      "[[25  2]\n",
      " [ 4 30]]\n",
      "\n",
      "\n",
      "The accuracy of KNN is :  90.1639344262295 %\n"
     ]
    }
   ],
   "source": [
    "model = KNeighborsClassifier(n_neighbors = 7)\n",
    "  \n",
    "model.fit(X_train, y_train)\n",
    "predicted = model.predict(X_test)\n",
    "  \n",
    "print('Confusion Matrix :')\n",
    "from sklearn.metrics import classification_report, confusion_matrix\n",
    "print(confusion_matrix(y_test, predicted))\n",
    "\n",
    "print()\n",
    "print()\n",
    "print(\"The accuracy of KNN is : \", accuracy_score(y_test, predicted.round())*100, \"%\")"
   ]
  },
  {
   "cell_type": "markdown",
   "id": "a77a91f0",
   "metadata": {
    "papermill": {
     "duration": 0.01886,
     "end_time": "2024-04-11T16:46:36.851771",
     "exception": false,
     "start_time": "2024-04-11T16:46:36.832911",
     "status": "completed"
    },
    "tags": []
   },
   "source": [
    "7. XGBoost"
   ]
  },
  {
   "cell_type": "code",
   "execution_count": 24,
   "id": "fb56b651",
   "metadata": {
    "execution": {
     "iopub.execute_input": "2024-04-11T16:46:36.893047Z",
     "iopub.status.busy": "2024-04-11T16:46:36.892533Z",
     "iopub.status.idle": "2024-04-11T16:46:37.015649Z",
     "shell.execute_reply": "2024-04-11T16:46:37.014644Z"
    },
    "papermill": {
     "duration": 0.146438,
     "end_time": "2024-04-11T16:46:37.018530",
     "exception": false,
     "start_time": "2024-04-11T16:46:36.872092",
     "status": "completed"
    },
    "tags": []
   },
   "outputs": [
    {
     "name": "stdout",
     "output_type": "stream",
     "text": [
      "\n",
      "The accuracy of X Gradient Boosting is :  81.9672131147541 %\n"
     ]
    }
   ],
   "source": [
    "model = xgb.XGBClassifier(use_label_encoder=False)\n",
    "model.fit(X_train, y_train)\n",
    "   \n",
    "predicted = model.predict(X_test)\n",
    "   \n",
    "cm = confusion_matrix(y_test, predicted)\n",
    "print()\n",
    "print (\"The accuracy of X Gradient Boosting is : \", accuracy_score(y_test, predicted)*100, \"%\")"
   ]
  },
  {
   "cell_type": "code",
   "execution_count": null,
   "id": "1b49fdbd",
   "metadata": {
    "papermill": {
     "duration": 0.018204,
     "end_time": "2024-04-11T16:46:37.055833",
     "exception": false,
     "start_time": "2024-04-11T16:46:37.037629",
     "status": "completed"
    },
    "tags": []
   },
   "outputs": [],
   "source": []
  }
 ],
 "metadata": {
  "kaggle": {
   "accelerator": "none",
   "dataSources": [
    {
     "datasetId": 1226038,
     "sourceId": 2047221,
     "sourceType": "datasetVersion"
    }
   ],
   "dockerImageVersionId": 30664,
   "isGpuEnabled": false,
   "isInternetEnabled": true,
   "language": "python",
   "sourceType": "notebook"
  },
  "kernelspec": {
   "display_name": "Python 3",
   "language": "python",
   "name": "python3"
  },
  "language_info": {
   "codemirror_mode": {
    "name": "ipython",
    "version": 3
   },
   "file_extension": ".py",
   "mimetype": "text/x-python",
   "name": "python",
   "nbconvert_exporter": "python",
   "pygments_lexer": "ipython3",
   "version": "3.10.13"
  },
  "papermill": {
   "default_parameters": {},
   "duration": 13.237785,
   "end_time": "2024-04-11T16:46:38.102184",
   "environment_variables": {},
   "exception": null,
   "input_path": "__notebook__.ipynb",
   "output_path": "__notebook__.ipynb",
   "parameters": {},
   "start_time": "2024-04-11T16:46:24.864399",
   "version": "2.5.0"
  }
 },
 "nbformat": 4,
 "nbformat_minor": 5
}
