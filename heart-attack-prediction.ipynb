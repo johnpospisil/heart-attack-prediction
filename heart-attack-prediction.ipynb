{
 "cells": [
  {
   "cell_type": "markdown",
   "id": "ef7a0658",
   "metadata": {
    "execution": {
     "iopub.execute_input": "2024-04-11T16:31:58.682851Z",
     "iopub.status.busy": "2024-04-11T16:31:58.682451Z",
     "iopub.status.idle": "2024-04-11T16:31:58.718967Z",
     "shell.execute_reply": "2024-04-11T16:31:58.718011Z",
     "shell.execute_reply.started": "2024-04-11T16:31:58.682821Z"
    },
    "papermill": {
     "duration": 0.012891,
     "end_time": "2024-04-11T16:40:12.098235",
     "exception": false,
     "start_time": "2024-04-11T16:40:12.085344",
     "status": "completed"
    },
    "tags": []
   },
   "source": [
    "# Heart Attack Predicition - Finding the Best Predictive Model"
   ]
  },
  {
   "cell_type": "markdown",
   "id": "da390731",
   "metadata": {
    "papermill": {
     "duration": 0.011577,
     "end_time": "2024-04-11T16:40:12.122747",
     "exception": false,
     "start_time": "2024-04-11T16:40:12.111170",
     "status": "completed"
    },
    "tags": []
   },
   "source": [
    "### **Table of Contents**\n",
    "* [<span style=\"color:#A690A4\"> 0. Executive Summary](#exe_sum)\n",
    "* [<span style=\"color:#A690A4\"> 1. Introduction](#intro)\n",
    "* [<span style=\"color:#A690A4\"> 2. Collect, Wrangle & Explore](#process)\n",
    "* [<span style=\"color:#A690A4\"> 3. Predict Life Expectancy](#predict)"
   ]
  },
  {
   "cell_type": "markdown",
   "id": "4eef816a",
   "metadata": {
    "papermill": {
     "duration": 0.011503,
     "end_time": "2024-04-11T16:40:12.146094",
     "exception": false,
     "start_time": "2024-04-11T16:40:12.134591",
     "status": "completed"
    },
    "tags": []
   },
   "source": [
    "# <span style=\"color:#5E6997\">Executive Summary</span> <a class=\"anchor\" id=\"exe_sum\"></a>"
   ]
  },
  {
   "cell_type": "markdown",
   "id": "4f3b41ae",
   "metadata": {
    "papermill": {
     "duration": 0.011356,
     "end_time": "2024-04-11T16:40:12.169433",
     "exception": false,
     "start_time": "2024-04-11T16:40:12.158077",
     "status": "completed"
    },
    "tags": []
   },
   "source": [
    "# <span style=\"color:#5E6997\">Introduction</span> <a class=\"anchor\" id=\"intro\"></a>"
   ]
  },
  {
   "cell_type": "markdown",
   "id": "cf15f84a",
   "metadata": {
    "papermill": {
     "duration": 0.011346,
     "end_time": "2024-04-11T16:40:12.192494",
     "exception": false,
     "start_time": "2024-04-11T16:40:12.181148",
     "status": "completed"
    },
    "tags": []
   },
   "source": [
    "# <span style=\"color:#5E6997\">Collect, Wrangle, and Explore</span> <a class=\"anchor\" id=\"process\"></a>"
   ]
  },
  {
   "cell_type": "markdown",
   "id": "a9770a0b",
   "metadata": {
    "papermill": {
     "duration": 0.011341,
     "end_time": "2024-04-11T16:40:12.215611",
     "exception": false,
     "start_time": "2024-04-11T16:40:12.204270",
     "status": "completed"
    },
    "tags": []
   },
   "source": [
    "Below is data collection and wrangling."
   ]
  },
  {
   "cell_type": "markdown",
   "id": "079c6f0e",
   "metadata": {
    "papermill": {
     "duration": 0.011463,
     "end_time": "2024-04-11T16:40:12.238957",
     "exception": false,
     "start_time": "2024-04-11T16:40:12.227494",
     "status": "completed"
    },
    "tags": []
   },
   "source": [
    "Data will be explored in this [Tableau chart](https://public.tableau.com/views/HeartAttackAnalysis_17120977864890/Sheet1?:language=en-US&:sid=&:display_count=n&:origin=viz_share_link)."
   ]
  },
  {
   "cell_type": "code",
   "execution_count": 1,
   "id": "5f0f0ae2",
   "metadata": {
    "_cell_guid": "b1076dfc-b9ad-4769-8c92-a6c4dae69d19",
    "_uuid": "8f2839f25d086af736a60e9eeb907d3b93b6e0e5",
    "execution": {
     "iopub.execute_input": "2024-04-11T16:40:12.265139Z",
     "iopub.status.busy": "2024-04-11T16:40:12.264738Z",
     "iopub.status.idle": "2024-04-11T16:40:15.634205Z",
     "shell.execute_reply": "2024-04-11T16:40:15.632979Z"
    },
    "papermill": {
     "duration": 3.385478,
     "end_time": "2024-04-11T16:40:15.637048",
     "exception": false,
     "start_time": "2024-04-11T16:40:12.251570",
     "status": "completed"
    },
    "tags": []
   },
   "outputs": [],
   "source": [
    "import seaborn as sns\n",
    "import numpy as np \n",
    "import pandas as pd \n",
    "import matplotlib.pyplot as plt\n",
    "from sklearn.model_selection import train_test_split\n",
    "from sklearn.preprocessing import StandardScaler \n",
    "from sklearn.svm import SVC\n",
    "from sklearn.linear_model import LogisticRegression\n",
    "import xgboost as xgb\n",
    "from sklearn.metrics import accuracy_score\n",
    "from sklearn.neighbors import KNeighborsClassifier  \n",
    "from sklearn.ensemble import RandomForestRegressor\n",
    "from sklearn.neighbors import KNeighborsClassifier\n",
    "from sklearn.naive_bayes import BernoulliNB\n",
    "from sklearn.naive_bayes import GaussianNB\n",
    "from sklearn.metrics import confusion_matrix\n",
    "import warnings"
   ]
  },
  {
   "cell_type": "code",
   "execution_count": 2,
   "id": "8356afd8",
   "metadata": {
    "execution": {
     "iopub.execute_input": "2024-04-11T16:40:15.663347Z",
     "iopub.status.busy": "2024-04-11T16:40:15.662805Z",
     "iopub.status.idle": "2024-04-11T16:40:15.710112Z",
     "shell.execute_reply": "2024-04-11T16:40:15.708947Z"
    },
    "papermill": {
     "duration": 0.063505,
     "end_time": "2024-04-11T16:40:15.712731",
     "exception": false,
     "start_time": "2024-04-11T16:40:15.649226",
     "status": "completed"
    },
    "tags": []
   },
   "outputs": [
    {
     "data": {
      "text/html": [
       "<div>\n",
       "<style scoped>\n",
       "    .dataframe tbody tr th:only-of-type {\n",
       "        vertical-align: middle;\n",
       "    }\n",
       "\n",
       "    .dataframe tbody tr th {\n",
       "        vertical-align: top;\n",
       "    }\n",
       "\n",
       "    .dataframe thead th {\n",
       "        text-align: right;\n",
       "    }\n",
       "</style>\n",
       "<table border=\"1\" class=\"dataframe\">\n",
       "  <thead>\n",
       "    <tr style=\"text-align: right;\">\n",
       "      <th></th>\n",
       "      <th>age</th>\n",
       "      <th>sex</th>\n",
       "      <th>cp</th>\n",
       "      <th>trtbps</th>\n",
       "      <th>chol</th>\n",
       "      <th>fbs</th>\n",
       "      <th>restecg</th>\n",
       "      <th>thalachh</th>\n",
       "      <th>exng</th>\n",
       "      <th>oldpeak</th>\n",
       "      <th>slp</th>\n",
       "      <th>caa</th>\n",
       "      <th>thall</th>\n",
       "      <th>output</th>\n",
       "    </tr>\n",
       "  </thead>\n",
       "  <tbody>\n",
       "    <tr>\n",
       "      <th>0</th>\n",
       "      <td>63</td>\n",
       "      <td>1</td>\n",
       "      <td>3</td>\n",
       "      <td>145</td>\n",
       "      <td>233</td>\n",
       "      <td>1</td>\n",
       "      <td>0</td>\n",
       "      <td>150</td>\n",
       "      <td>0</td>\n",
       "      <td>2.3</td>\n",
       "      <td>0</td>\n",
       "      <td>0</td>\n",
       "      <td>1</td>\n",
       "      <td>1</td>\n",
       "    </tr>\n",
       "    <tr>\n",
       "      <th>1</th>\n",
       "      <td>37</td>\n",
       "      <td>1</td>\n",
       "      <td>2</td>\n",
       "      <td>130</td>\n",
       "      <td>250</td>\n",
       "      <td>0</td>\n",
       "      <td>1</td>\n",
       "      <td>187</td>\n",
       "      <td>0</td>\n",
       "      <td>3.5</td>\n",
       "      <td>0</td>\n",
       "      <td>0</td>\n",
       "      <td>2</td>\n",
       "      <td>1</td>\n",
       "    </tr>\n",
       "    <tr>\n",
       "      <th>2</th>\n",
       "      <td>41</td>\n",
       "      <td>0</td>\n",
       "      <td>1</td>\n",
       "      <td>130</td>\n",
       "      <td>204</td>\n",
       "      <td>0</td>\n",
       "      <td>0</td>\n",
       "      <td>172</td>\n",
       "      <td>0</td>\n",
       "      <td>1.4</td>\n",
       "      <td>2</td>\n",
       "      <td>0</td>\n",
       "      <td>2</td>\n",
       "      <td>1</td>\n",
       "    </tr>\n",
       "    <tr>\n",
       "      <th>3</th>\n",
       "      <td>56</td>\n",
       "      <td>1</td>\n",
       "      <td>1</td>\n",
       "      <td>120</td>\n",
       "      <td>236</td>\n",
       "      <td>0</td>\n",
       "      <td>1</td>\n",
       "      <td>178</td>\n",
       "      <td>0</td>\n",
       "      <td>0.8</td>\n",
       "      <td>2</td>\n",
       "      <td>0</td>\n",
       "      <td>2</td>\n",
       "      <td>1</td>\n",
       "    </tr>\n",
       "    <tr>\n",
       "      <th>4</th>\n",
       "      <td>57</td>\n",
       "      <td>0</td>\n",
       "      <td>0</td>\n",
       "      <td>120</td>\n",
       "      <td>354</td>\n",
       "      <td>0</td>\n",
       "      <td>1</td>\n",
       "      <td>163</td>\n",
       "      <td>1</td>\n",
       "      <td>0.6</td>\n",
       "      <td>2</td>\n",
       "      <td>0</td>\n",
       "      <td>2</td>\n",
       "      <td>1</td>\n",
       "    </tr>\n",
       "  </tbody>\n",
       "</table>\n",
       "</div>"
      ],
      "text/plain": [
       "   age  sex  cp  trtbps  chol  fbs  restecg  thalachh  exng  oldpeak  slp  \\\n",
       "0   63    1   3     145   233    1        0       150     0      2.3    0   \n",
       "1   37    1   2     130   250    0        1       187     0      3.5    0   \n",
       "2   41    0   1     130   204    0        0       172     0      1.4    2   \n",
       "3   56    1   1     120   236    0        1       178     0      0.8    2   \n",
       "4   57    0   0     120   354    0        1       163     1      0.6    2   \n",
       "\n",
       "   caa  thall  output  \n",
       "0    0      1       1  \n",
       "1    0      2       1  \n",
       "2    0      2       1  \n",
       "3    0      2       1  \n",
       "4    0      2       1  "
      ]
     },
     "execution_count": 2,
     "metadata": {},
     "output_type": "execute_result"
    }
   ],
   "source": [
    "df = pd.read_csv('/kaggle/input/heart-attack-analysis-prediction-dataset/heart.csv')\n",
    "df.head()"
   ]
  },
  {
   "cell_type": "code",
   "execution_count": 3,
   "id": "7278717f",
   "metadata": {
    "execution": {
     "iopub.execute_input": "2024-04-11T16:40:15.740426Z",
     "iopub.status.busy": "2024-04-11T16:40:15.740038Z",
     "iopub.status.idle": "2024-04-11T16:40:15.769487Z",
     "shell.execute_reply": "2024-04-11T16:40:15.768468Z"
    },
    "papermill": {
     "duration": 0.046563,
     "end_time": "2024-04-11T16:40:15.772237",
     "exception": false,
     "start_time": "2024-04-11T16:40:15.725674",
     "status": "completed"
    },
    "tags": []
   },
   "outputs": [
    {
     "name": "stdout",
     "output_type": "stream",
     "text": [
      "<class 'pandas.core.frame.DataFrame'>\n",
      "RangeIndex: 303 entries, 0 to 302\n",
      "Data columns (total 14 columns):\n",
      " #   Column    Non-Null Count  Dtype  \n",
      "---  ------    --------------  -----  \n",
      " 0   age       303 non-null    int64  \n",
      " 1   sex       303 non-null    int64  \n",
      " 2   cp        303 non-null    int64  \n",
      " 3   trtbps    303 non-null    int64  \n",
      " 4   chol      303 non-null    int64  \n",
      " 5   fbs       303 non-null    int64  \n",
      " 6   restecg   303 non-null    int64  \n",
      " 7   thalachh  303 non-null    int64  \n",
      " 8   exng      303 non-null    int64  \n",
      " 9   oldpeak   303 non-null    float64\n",
      " 10  slp       303 non-null    int64  \n",
      " 11  caa       303 non-null    int64  \n",
      " 12  thall     303 non-null    int64  \n",
      " 13  output    303 non-null    int64  \n",
      "dtypes: float64(1), int64(13)\n",
      "memory usage: 33.3 KB\n"
     ]
    }
   ],
   "source": [
    "df.info()"
   ]
  },
  {
   "cell_type": "code",
   "execution_count": 4,
   "id": "a21f98e0",
   "metadata": {
    "execution": {
     "iopub.execute_input": "2024-04-11T16:40:15.799306Z",
     "iopub.status.busy": "2024-04-11T16:40:15.798561Z",
     "iopub.status.idle": "2024-04-11T16:40:15.849463Z",
     "shell.execute_reply": "2024-04-11T16:40:15.848327Z"
    },
    "papermill": {
     "duration": 0.067369,
     "end_time": "2024-04-11T16:40:15.852185",
     "exception": false,
     "start_time": "2024-04-11T16:40:15.784816",
     "status": "completed"
    },
    "tags": []
   },
   "outputs": [
    {
     "data": {
      "text/html": [
       "<div>\n",
       "<style scoped>\n",
       "    .dataframe tbody tr th:only-of-type {\n",
       "        vertical-align: middle;\n",
       "    }\n",
       "\n",
       "    .dataframe tbody tr th {\n",
       "        vertical-align: top;\n",
       "    }\n",
       "\n",
       "    .dataframe thead th {\n",
       "        text-align: right;\n",
       "    }\n",
       "</style>\n",
       "<table border=\"1\" class=\"dataframe\">\n",
       "  <thead>\n",
       "    <tr style=\"text-align: right;\">\n",
       "      <th></th>\n",
       "      <th>age</th>\n",
       "      <th>sex</th>\n",
       "      <th>cp</th>\n",
       "      <th>trtbps</th>\n",
       "      <th>chol</th>\n",
       "      <th>fbs</th>\n",
       "      <th>restecg</th>\n",
       "      <th>thalachh</th>\n",
       "      <th>exng</th>\n",
       "      <th>oldpeak</th>\n",
       "      <th>slp</th>\n",
       "      <th>caa</th>\n",
       "      <th>thall</th>\n",
       "      <th>output</th>\n",
       "    </tr>\n",
       "  </thead>\n",
       "  <tbody>\n",
       "    <tr>\n",
       "      <th>count</th>\n",
       "      <td>303.000000</td>\n",
       "      <td>303.000000</td>\n",
       "      <td>303.000000</td>\n",
       "      <td>303.000000</td>\n",
       "      <td>303.000000</td>\n",
       "      <td>303.000000</td>\n",
       "      <td>303.000000</td>\n",
       "      <td>303.000000</td>\n",
       "      <td>303.000000</td>\n",
       "      <td>303.000000</td>\n",
       "      <td>303.000000</td>\n",
       "      <td>303.000000</td>\n",
       "      <td>303.000000</td>\n",
       "      <td>303.000000</td>\n",
       "    </tr>\n",
       "    <tr>\n",
       "      <th>mean</th>\n",
       "      <td>54.366337</td>\n",
       "      <td>0.683168</td>\n",
       "      <td>0.966997</td>\n",
       "      <td>131.623762</td>\n",
       "      <td>246.264026</td>\n",
       "      <td>0.148515</td>\n",
       "      <td>0.528053</td>\n",
       "      <td>149.646865</td>\n",
       "      <td>0.326733</td>\n",
       "      <td>1.039604</td>\n",
       "      <td>1.399340</td>\n",
       "      <td>0.729373</td>\n",
       "      <td>2.313531</td>\n",
       "      <td>0.544554</td>\n",
       "    </tr>\n",
       "    <tr>\n",
       "      <th>std</th>\n",
       "      <td>9.082101</td>\n",
       "      <td>0.466011</td>\n",
       "      <td>1.032052</td>\n",
       "      <td>17.538143</td>\n",
       "      <td>51.830751</td>\n",
       "      <td>0.356198</td>\n",
       "      <td>0.525860</td>\n",
       "      <td>22.905161</td>\n",
       "      <td>0.469794</td>\n",
       "      <td>1.161075</td>\n",
       "      <td>0.616226</td>\n",
       "      <td>1.022606</td>\n",
       "      <td>0.612277</td>\n",
       "      <td>0.498835</td>\n",
       "    </tr>\n",
       "    <tr>\n",
       "      <th>min</th>\n",
       "      <td>29.000000</td>\n",
       "      <td>0.000000</td>\n",
       "      <td>0.000000</td>\n",
       "      <td>94.000000</td>\n",
       "      <td>126.000000</td>\n",
       "      <td>0.000000</td>\n",
       "      <td>0.000000</td>\n",
       "      <td>71.000000</td>\n",
       "      <td>0.000000</td>\n",
       "      <td>0.000000</td>\n",
       "      <td>0.000000</td>\n",
       "      <td>0.000000</td>\n",
       "      <td>0.000000</td>\n",
       "      <td>0.000000</td>\n",
       "    </tr>\n",
       "    <tr>\n",
       "      <th>25%</th>\n",
       "      <td>47.500000</td>\n",
       "      <td>0.000000</td>\n",
       "      <td>0.000000</td>\n",
       "      <td>120.000000</td>\n",
       "      <td>211.000000</td>\n",
       "      <td>0.000000</td>\n",
       "      <td>0.000000</td>\n",
       "      <td>133.500000</td>\n",
       "      <td>0.000000</td>\n",
       "      <td>0.000000</td>\n",
       "      <td>1.000000</td>\n",
       "      <td>0.000000</td>\n",
       "      <td>2.000000</td>\n",
       "      <td>0.000000</td>\n",
       "    </tr>\n",
       "    <tr>\n",
       "      <th>50%</th>\n",
       "      <td>55.000000</td>\n",
       "      <td>1.000000</td>\n",
       "      <td>1.000000</td>\n",
       "      <td>130.000000</td>\n",
       "      <td>240.000000</td>\n",
       "      <td>0.000000</td>\n",
       "      <td>1.000000</td>\n",
       "      <td>153.000000</td>\n",
       "      <td>0.000000</td>\n",
       "      <td>0.800000</td>\n",
       "      <td>1.000000</td>\n",
       "      <td>0.000000</td>\n",
       "      <td>2.000000</td>\n",
       "      <td>1.000000</td>\n",
       "    </tr>\n",
       "    <tr>\n",
       "      <th>75%</th>\n",
       "      <td>61.000000</td>\n",
       "      <td>1.000000</td>\n",
       "      <td>2.000000</td>\n",
       "      <td>140.000000</td>\n",
       "      <td>274.500000</td>\n",
       "      <td>0.000000</td>\n",
       "      <td>1.000000</td>\n",
       "      <td>166.000000</td>\n",
       "      <td>1.000000</td>\n",
       "      <td>1.600000</td>\n",
       "      <td>2.000000</td>\n",
       "      <td>1.000000</td>\n",
       "      <td>3.000000</td>\n",
       "      <td>1.000000</td>\n",
       "    </tr>\n",
       "    <tr>\n",
       "      <th>max</th>\n",
       "      <td>77.000000</td>\n",
       "      <td>1.000000</td>\n",
       "      <td>3.000000</td>\n",
       "      <td>200.000000</td>\n",
       "      <td>564.000000</td>\n",
       "      <td>1.000000</td>\n",
       "      <td>2.000000</td>\n",
       "      <td>202.000000</td>\n",
       "      <td>1.000000</td>\n",
       "      <td>6.200000</td>\n",
       "      <td>2.000000</td>\n",
       "      <td>4.000000</td>\n",
       "      <td>3.000000</td>\n",
       "      <td>1.000000</td>\n",
       "    </tr>\n",
       "  </tbody>\n",
       "</table>\n",
       "</div>"
      ],
      "text/plain": [
       "              age         sex          cp      trtbps        chol         fbs  \\\n",
       "count  303.000000  303.000000  303.000000  303.000000  303.000000  303.000000   \n",
       "mean    54.366337    0.683168    0.966997  131.623762  246.264026    0.148515   \n",
       "std      9.082101    0.466011    1.032052   17.538143   51.830751    0.356198   \n",
       "min     29.000000    0.000000    0.000000   94.000000  126.000000    0.000000   \n",
       "25%     47.500000    0.000000    0.000000  120.000000  211.000000    0.000000   \n",
       "50%     55.000000    1.000000    1.000000  130.000000  240.000000    0.000000   \n",
       "75%     61.000000    1.000000    2.000000  140.000000  274.500000    0.000000   \n",
       "max     77.000000    1.000000    3.000000  200.000000  564.000000    1.000000   \n",
       "\n",
       "          restecg    thalachh        exng     oldpeak         slp         caa  \\\n",
       "count  303.000000  303.000000  303.000000  303.000000  303.000000  303.000000   \n",
       "mean     0.528053  149.646865    0.326733    1.039604    1.399340    0.729373   \n",
       "std      0.525860   22.905161    0.469794    1.161075    0.616226    1.022606   \n",
       "min      0.000000   71.000000    0.000000    0.000000    0.000000    0.000000   \n",
       "25%      0.000000  133.500000    0.000000    0.000000    1.000000    0.000000   \n",
       "50%      1.000000  153.000000    0.000000    0.800000    1.000000    0.000000   \n",
       "75%      1.000000  166.000000    1.000000    1.600000    2.000000    1.000000   \n",
       "max      2.000000  202.000000    1.000000    6.200000    2.000000    4.000000   \n",
       "\n",
       "            thall      output  \n",
       "count  303.000000  303.000000  \n",
       "mean     2.313531    0.544554  \n",
       "std      0.612277    0.498835  \n",
       "min      0.000000    0.000000  \n",
       "25%      2.000000    0.000000  \n",
       "50%      2.000000    1.000000  \n",
       "75%      3.000000    1.000000  \n",
       "max      3.000000    1.000000  "
      ]
     },
     "execution_count": 4,
     "metadata": {},
     "output_type": "execute_result"
    }
   ],
   "source": [
    "df.describe()"
   ]
  },
  {
   "cell_type": "markdown",
   "id": "edd7dc41",
   "metadata": {
    "papermill": {
     "duration": 0.01249,
     "end_time": "2024-04-11T16:40:15.877491",
     "exception": false,
     "start_time": "2024-04-11T16:40:15.865001",
     "status": "completed"
    },
    "tags": []
   },
   "source": [
    "Check for any NULL values."
   ]
  },
  {
   "cell_type": "code",
   "execution_count": 5,
   "id": "9ce40d9e",
   "metadata": {
    "execution": {
     "iopub.execute_input": "2024-04-11T16:40:15.904821Z",
     "iopub.status.busy": "2024-04-11T16:40:15.904464Z",
     "iopub.status.idle": "2024-04-11T16:40:15.912497Z",
     "shell.execute_reply": "2024-04-11T16:40:15.911575Z"
    },
    "papermill": {
     "duration": 0.024235,
     "end_time": "2024-04-11T16:40:15.914728",
     "exception": false,
     "start_time": "2024-04-11T16:40:15.890493",
     "status": "completed"
    },
    "tags": []
   },
   "outputs": [
    {
     "data": {
      "text/plain": [
       "age         0\n",
       "sex         0\n",
       "cp          0\n",
       "trtbps      0\n",
       "chol        0\n",
       "fbs         0\n",
       "restecg     0\n",
       "thalachh    0\n",
       "exng        0\n",
       "oldpeak     0\n",
       "slp         0\n",
       "caa         0\n",
       "thall       0\n",
       "output      0\n",
       "dtype: int64"
      ]
     },
     "execution_count": 5,
     "metadata": {},
     "output_type": "execute_result"
    }
   ],
   "source": [
    "df.isnull().sum()"
   ]
  },
  {
   "cell_type": "markdown",
   "id": "f41d8244",
   "metadata": {
    "papermill": {
     "duration": 0.013294,
     "end_time": "2024-04-11T16:40:15.941201",
     "exception": false,
     "start_time": "2024-04-11T16:40:15.927907",
     "status": "completed"
    },
    "tags": []
   },
   "source": [
    "Check for duplicates."
   ]
  },
  {
   "cell_type": "code",
   "execution_count": 6,
   "id": "b39fd960",
   "metadata": {
    "execution": {
     "iopub.execute_input": "2024-04-11T16:40:15.969870Z",
     "iopub.status.busy": "2024-04-11T16:40:15.968689Z",
     "iopub.status.idle": "2024-04-11T16:40:15.977789Z",
     "shell.execute_reply": "2024-04-11T16:40:15.976917Z"
    },
    "papermill": {
     "duration": 0.025621,
     "end_time": "2024-04-11T16:40:15.979976",
     "exception": false,
     "start_time": "2024-04-11T16:40:15.954355",
     "status": "completed"
    },
    "tags": []
   },
   "outputs": [
    {
     "data": {
      "text/plain": [
       "1"
      ]
     },
     "execution_count": 6,
     "metadata": {},
     "output_type": "execute_result"
    }
   ],
   "source": [
    "df.duplicated().sum()"
   ]
  },
  {
   "cell_type": "code",
   "execution_count": 7,
   "id": "cad6fdf5",
   "metadata": {
    "execution": {
     "iopub.execute_input": "2024-04-11T16:40:16.009071Z",
     "iopub.status.busy": "2024-04-11T16:40:16.008261Z",
     "iopub.status.idle": "2024-04-11T16:40:16.014809Z",
     "shell.execute_reply": "2024-04-11T16:40:16.014047Z"
    },
    "papermill": {
     "duration": 0.02378,
     "end_time": "2024-04-11T16:40:16.017135",
     "exception": false,
     "start_time": "2024-04-11T16:40:15.993355",
     "status": "completed"
    },
    "tags": []
   },
   "outputs": [
    {
     "data": {
      "text/plain": [
       "(303, 14)"
      ]
     },
     "execution_count": 7,
     "metadata": {},
     "output_type": "execute_result"
    }
   ],
   "source": [
    "df.shape"
   ]
  },
  {
   "cell_type": "code",
   "execution_count": 8,
   "id": "8f104b09",
   "metadata": {
    "execution": {
     "iopub.execute_input": "2024-04-11T16:40:16.046469Z",
     "iopub.status.busy": "2024-04-11T16:40:16.045239Z",
     "iopub.status.idle": "2024-04-11T16:40:16.054823Z",
     "shell.execute_reply": "2024-04-11T16:40:16.053565Z"
    },
    "papermill": {
     "duration": 0.027062,
     "end_time": "2024-04-11T16:40:16.057561",
     "exception": false,
     "start_time": "2024-04-11T16:40:16.030499",
     "status": "completed"
    },
    "tags": []
   },
   "outputs": [],
   "source": [
    "df = df.drop_duplicates()"
   ]
  },
  {
   "cell_type": "code",
   "execution_count": 9,
   "id": "3106ad0c",
   "metadata": {
    "execution": {
     "iopub.execute_input": "2024-04-11T16:40:16.087056Z",
     "iopub.status.busy": "2024-04-11T16:40:16.085719Z",
     "iopub.status.idle": "2024-04-11T16:40:16.093061Z",
     "shell.execute_reply": "2024-04-11T16:40:16.091951Z"
    },
    "papermill": {
     "duration": 0.024117,
     "end_time": "2024-04-11T16:40:16.095394",
     "exception": false,
     "start_time": "2024-04-11T16:40:16.071277",
     "status": "completed"
    },
    "tags": []
   },
   "outputs": [
    {
     "data": {
      "text/plain": [
       "(302, 14)"
      ]
     },
     "execution_count": 9,
     "metadata": {},
     "output_type": "execute_result"
    }
   ],
   "source": [
    "df.shape"
   ]
  },
  {
   "cell_type": "markdown",
   "id": "4a8cab08",
   "metadata": {
    "papermill": {
     "duration": 0.013172,
     "end_time": "2024-04-11T16:40:16.122600",
     "exception": false,
     "start_time": "2024-04-11T16:40:16.109428",
     "status": "completed"
    },
    "tags": []
   },
   "source": [
    "Create the correlation matrix."
   ]
  },
  {
   "cell_type": "code",
   "execution_count": 10,
   "id": "8a5d048c",
   "metadata": {
    "execution": {
     "iopub.execute_input": "2024-04-11T16:40:16.152776Z",
     "iopub.status.busy": "2024-04-11T16:40:16.152326Z",
     "iopub.status.idle": "2024-04-11T16:40:16.181523Z",
     "shell.execute_reply": "2024-04-11T16:40:16.180286Z"
    },
    "papermill": {
     "duration": 0.046536,
     "end_time": "2024-04-11T16:40:16.183770",
     "exception": false,
     "start_time": "2024-04-11T16:40:16.137234",
     "status": "completed"
    },
    "tags": []
   },
   "outputs": [
    {
     "data": {
      "text/html": [
       "<div>\n",
       "<style scoped>\n",
       "    .dataframe tbody tr th:only-of-type {\n",
       "        vertical-align: middle;\n",
       "    }\n",
       "\n",
       "    .dataframe tbody tr th {\n",
       "        vertical-align: top;\n",
       "    }\n",
       "\n",
       "    .dataframe thead th {\n",
       "        text-align: right;\n",
       "    }\n",
       "</style>\n",
       "<table border=\"1\" class=\"dataframe\">\n",
       "  <thead>\n",
       "    <tr style=\"text-align: right;\">\n",
       "      <th></th>\n",
       "      <th>age</th>\n",
       "      <th>sex</th>\n",
       "      <th>cp</th>\n",
       "      <th>trtbps</th>\n",
       "      <th>chol</th>\n",
       "      <th>fbs</th>\n",
       "      <th>restecg</th>\n",
       "      <th>thalachh</th>\n",
       "      <th>exng</th>\n",
       "      <th>oldpeak</th>\n",
       "      <th>slp</th>\n",
       "      <th>caa</th>\n",
       "      <th>thall</th>\n",
       "      <th>output</th>\n",
       "    </tr>\n",
       "  </thead>\n",
       "  <tbody>\n",
       "    <tr>\n",
       "      <th>age</th>\n",
       "      <td>1.000000</td>\n",
       "      <td>-0.094962</td>\n",
       "      <td>-0.063107</td>\n",
       "      <td>0.283121</td>\n",
       "      <td>0.207216</td>\n",
       "      <td>0.119492</td>\n",
       "      <td>-0.111590</td>\n",
       "      <td>-0.395235</td>\n",
       "      <td>0.093216</td>\n",
       "      <td>0.206040</td>\n",
       "      <td>-0.164124</td>\n",
       "      <td>0.302261</td>\n",
       "      <td>0.065317</td>\n",
       "      <td>-0.221476</td>\n",
       "    </tr>\n",
       "    <tr>\n",
       "      <th>sex</th>\n",
       "      <td>-0.094962</td>\n",
       "      <td>1.000000</td>\n",
       "      <td>-0.051740</td>\n",
       "      <td>-0.057647</td>\n",
       "      <td>-0.195571</td>\n",
       "      <td>0.046022</td>\n",
       "      <td>-0.060351</td>\n",
       "      <td>-0.046439</td>\n",
       "      <td>0.143460</td>\n",
       "      <td>0.098322</td>\n",
       "      <td>-0.032990</td>\n",
       "      <td>0.113060</td>\n",
       "      <td>0.211452</td>\n",
       "      <td>-0.283609</td>\n",
       "    </tr>\n",
       "    <tr>\n",
       "      <th>cp</th>\n",
       "      <td>-0.063107</td>\n",
       "      <td>-0.051740</td>\n",
       "      <td>1.000000</td>\n",
       "      <td>0.046486</td>\n",
       "      <td>-0.072682</td>\n",
       "      <td>0.096018</td>\n",
       "      <td>0.041561</td>\n",
       "      <td>0.293367</td>\n",
       "      <td>-0.392937</td>\n",
       "      <td>-0.146692</td>\n",
       "      <td>0.116854</td>\n",
       "      <td>-0.195356</td>\n",
       "      <td>-0.160370</td>\n",
       "      <td>0.432080</td>\n",
       "    </tr>\n",
       "    <tr>\n",
       "      <th>trtbps</th>\n",
       "      <td>0.283121</td>\n",
       "      <td>-0.057647</td>\n",
       "      <td>0.046486</td>\n",
       "      <td>1.000000</td>\n",
       "      <td>0.125256</td>\n",
       "      <td>0.178125</td>\n",
       "      <td>-0.115367</td>\n",
       "      <td>-0.048023</td>\n",
       "      <td>0.068526</td>\n",
       "      <td>0.194600</td>\n",
       "      <td>-0.122873</td>\n",
       "      <td>0.099248</td>\n",
       "      <td>0.062870</td>\n",
       "      <td>-0.146269</td>\n",
       "    </tr>\n",
       "    <tr>\n",
       "      <th>chol</th>\n",
       "      <td>0.207216</td>\n",
       "      <td>-0.195571</td>\n",
       "      <td>-0.072682</td>\n",
       "      <td>0.125256</td>\n",
       "      <td>1.000000</td>\n",
       "      <td>0.011428</td>\n",
       "      <td>-0.147602</td>\n",
       "      <td>-0.005308</td>\n",
       "      <td>0.064099</td>\n",
       "      <td>0.050086</td>\n",
       "      <td>0.000417</td>\n",
       "      <td>0.086878</td>\n",
       "      <td>0.096810</td>\n",
       "      <td>-0.081437</td>\n",
       "    </tr>\n",
       "    <tr>\n",
       "      <th>fbs</th>\n",
       "      <td>0.119492</td>\n",
       "      <td>0.046022</td>\n",
       "      <td>0.096018</td>\n",
       "      <td>0.178125</td>\n",
       "      <td>0.011428</td>\n",
       "      <td>1.000000</td>\n",
       "      <td>-0.083081</td>\n",
       "      <td>-0.007169</td>\n",
       "      <td>0.024729</td>\n",
       "      <td>0.004514</td>\n",
       "      <td>-0.058654</td>\n",
       "      <td>0.144935</td>\n",
       "      <td>-0.032752</td>\n",
       "      <td>-0.026826</td>\n",
       "    </tr>\n",
       "    <tr>\n",
       "      <th>restecg</th>\n",
       "      <td>-0.111590</td>\n",
       "      <td>-0.060351</td>\n",
       "      <td>0.041561</td>\n",
       "      <td>-0.115367</td>\n",
       "      <td>-0.147602</td>\n",
       "      <td>-0.083081</td>\n",
       "      <td>1.000000</td>\n",
       "      <td>0.041210</td>\n",
       "      <td>-0.068807</td>\n",
       "      <td>-0.056251</td>\n",
       "      <td>0.090402</td>\n",
       "      <td>-0.083112</td>\n",
       "      <td>-0.010473</td>\n",
       "      <td>0.134874</td>\n",
       "    </tr>\n",
       "    <tr>\n",
       "      <th>thalachh</th>\n",
       "      <td>-0.395235</td>\n",
       "      <td>-0.046439</td>\n",
       "      <td>0.293367</td>\n",
       "      <td>-0.048023</td>\n",
       "      <td>-0.005308</td>\n",
       "      <td>-0.007169</td>\n",
       "      <td>0.041210</td>\n",
       "      <td>1.000000</td>\n",
       "      <td>-0.377411</td>\n",
       "      <td>-0.342201</td>\n",
       "      <td>0.384754</td>\n",
       "      <td>-0.228311</td>\n",
       "      <td>-0.094910</td>\n",
       "      <td>0.419955</td>\n",
       "    </tr>\n",
       "    <tr>\n",
       "      <th>exng</th>\n",
       "      <td>0.093216</td>\n",
       "      <td>0.143460</td>\n",
       "      <td>-0.392937</td>\n",
       "      <td>0.068526</td>\n",
       "      <td>0.064099</td>\n",
       "      <td>0.024729</td>\n",
       "      <td>-0.068807</td>\n",
       "      <td>-0.377411</td>\n",
       "      <td>1.000000</td>\n",
       "      <td>0.286766</td>\n",
       "      <td>-0.256106</td>\n",
       "      <td>0.125377</td>\n",
       "      <td>0.205826</td>\n",
       "      <td>-0.435601</td>\n",
       "    </tr>\n",
       "    <tr>\n",
       "      <th>oldpeak</th>\n",
       "      <td>0.206040</td>\n",
       "      <td>0.098322</td>\n",
       "      <td>-0.146692</td>\n",
       "      <td>0.194600</td>\n",
       "      <td>0.050086</td>\n",
       "      <td>0.004514</td>\n",
       "      <td>-0.056251</td>\n",
       "      <td>-0.342201</td>\n",
       "      <td>0.286766</td>\n",
       "      <td>1.000000</td>\n",
       "      <td>-0.576314</td>\n",
       "      <td>0.236560</td>\n",
       "      <td>0.209090</td>\n",
       "      <td>-0.429146</td>\n",
       "    </tr>\n",
       "    <tr>\n",
       "      <th>slp</th>\n",
       "      <td>-0.164124</td>\n",
       "      <td>-0.032990</td>\n",
       "      <td>0.116854</td>\n",
       "      <td>-0.122873</td>\n",
       "      <td>0.000417</td>\n",
       "      <td>-0.058654</td>\n",
       "      <td>0.090402</td>\n",
       "      <td>0.384754</td>\n",
       "      <td>-0.256106</td>\n",
       "      <td>-0.576314</td>\n",
       "      <td>1.000000</td>\n",
       "      <td>-0.092236</td>\n",
       "      <td>-0.103314</td>\n",
       "      <td>0.343940</td>\n",
       "    </tr>\n",
       "    <tr>\n",
       "      <th>caa</th>\n",
       "      <td>0.302261</td>\n",
       "      <td>0.113060</td>\n",
       "      <td>-0.195356</td>\n",
       "      <td>0.099248</td>\n",
       "      <td>0.086878</td>\n",
       "      <td>0.144935</td>\n",
       "      <td>-0.083112</td>\n",
       "      <td>-0.228311</td>\n",
       "      <td>0.125377</td>\n",
       "      <td>0.236560</td>\n",
       "      <td>-0.092236</td>\n",
       "      <td>1.000000</td>\n",
       "      <td>0.160085</td>\n",
       "      <td>-0.408992</td>\n",
       "    </tr>\n",
       "    <tr>\n",
       "      <th>thall</th>\n",
       "      <td>0.065317</td>\n",
       "      <td>0.211452</td>\n",
       "      <td>-0.160370</td>\n",
       "      <td>0.062870</td>\n",
       "      <td>0.096810</td>\n",
       "      <td>-0.032752</td>\n",
       "      <td>-0.010473</td>\n",
       "      <td>-0.094910</td>\n",
       "      <td>0.205826</td>\n",
       "      <td>0.209090</td>\n",
       "      <td>-0.103314</td>\n",
       "      <td>0.160085</td>\n",
       "      <td>1.000000</td>\n",
       "      <td>-0.343101</td>\n",
       "    </tr>\n",
       "    <tr>\n",
       "      <th>output</th>\n",
       "      <td>-0.221476</td>\n",
       "      <td>-0.283609</td>\n",
       "      <td>0.432080</td>\n",
       "      <td>-0.146269</td>\n",
       "      <td>-0.081437</td>\n",
       "      <td>-0.026826</td>\n",
       "      <td>0.134874</td>\n",
       "      <td>0.419955</td>\n",
       "      <td>-0.435601</td>\n",
       "      <td>-0.429146</td>\n",
       "      <td>0.343940</td>\n",
       "      <td>-0.408992</td>\n",
       "      <td>-0.343101</td>\n",
       "      <td>1.000000</td>\n",
       "    </tr>\n",
       "  </tbody>\n",
       "</table>\n",
       "</div>"
      ],
      "text/plain": [
       "               age       sex        cp    trtbps      chol       fbs  \\\n",
       "age       1.000000 -0.094962 -0.063107  0.283121  0.207216  0.119492   \n",
       "sex      -0.094962  1.000000 -0.051740 -0.057647 -0.195571  0.046022   \n",
       "cp       -0.063107 -0.051740  1.000000  0.046486 -0.072682  0.096018   \n",
       "trtbps    0.283121 -0.057647  0.046486  1.000000  0.125256  0.178125   \n",
       "chol      0.207216 -0.195571 -0.072682  0.125256  1.000000  0.011428   \n",
       "fbs       0.119492  0.046022  0.096018  0.178125  0.011428  1.000000   \n",
       "restecg  -0.111590 -0.060351  0.041561 -0.115367 -0.147602 -0.083081   \n",
       "thalachh -0.395235 -0.046439  0.293367 -0.048023 -0.005308 -0.007169   \n",
       "exng      0.093216  0.143460 -0.392937  0.068526  0.064099  0.024729   \n",
       "oldpeak   0.206040  0.098322 -0.146692  0.194600  0.050086  0.004514   \n",
       "slp      -0.164124 -0.032990  0.116854 -0.122873  0.000417 -0.058654   \n",
       "caa       0.302261  0.113060 -0.195356  0.099248  0.086878  0.144935   \n",
       "thall     0.065317  0.211452 -0.160370  0.062870  0.096810 -0.032752   \n",
       "output   -0.221476 -0.283609  0.432080 -0.146269 -0.081437 -0.026826   \n",
       "\n",
       "           restecg  thalachh      exng   oldpeak       slp       caa  \\\n",
       "age      -0.111590 -0.395235  0.093216  0.206040 -0.164124  0.302261   \n",
       "sex      -0.060351 -0.046439  0.143460  0.098322 -0.032990  0.113060   \n",
       "cp        0.041561  0.293367 -0.392937 -0.146692  0.116854 -0.195356   \n",
       "trtbps   -0.115367 -0.048023  0.068526  0.194600 -0.122873  0.099248   \n",
       "chol     -0.147602 -0.005308  0.064099  0.050086  0.000417  0.086878   \n",
       "fbs      -0.083081 -0.007169  0.024729  0.004514 -0.058654  0.144935   \n",
       "restecg   1.000000  0.041210 -0.068807 -0.056251  0.090402 -0.083112   \n",
       "thalachh  0.041210  1.000000 -0.377411 -0.342201  0.384754 -0.228311   \n",
       "exng     -0.068807 -0.377411  1.000000  0.286766 -0.256106  0.125377   \n",
       "oldpeak  -0.056251 -0.342201  0.286766  1.000000 -0.576314  0.236560   \n",
       "slp       0.090402  0.384754 -0.256106 -0.576314  1.000000 -0.092236   \n",
       "caa      -0.083112 -0.228311  0.125377  0.236560 -0.092236  1.000000   \n",
       "thall    -0.010473 -0.094910  0.205826  0.209090 -0.103314  0.160085   \n",
       "output    0.134874  0.419955 -0.435601 -0.429146  0.343940 -0.408992   \n",
       "\n",
       "             thall    output  \n",
       "age       0.065317 -0.221476  \n",
       "sex       0.211452 -0.283609  \n",
       "cp       -0.160370  0.432080  \n",
       "trtbps    0.062870 -0.146269  \n",
       "chol      0.096810 -0.081437  \n",
       "fbs      -0.032752 -0.026826  \n",
       "restecg  -0.010473  0.134874  \n",
       "thalachh -0.094910  0.419955  \n",
       "exng      0.205826 -0.435601  \n",
       "oldpeak   0.209090 -0.429146  \n",
       "slp      -0.103314  0.343940  \n",
       "caa       0.160085 -0.408992  \n",
       "thall     1.000000 -0.343101  \n",
       "output   -0.343101  1.000000  "
      ]
     },
     "execution_count": 10,
     "metadata": {},
     "output_type": "execute_result"
    }
   ],
   "source": [
    "df.corr()"
   ]
  },
  {
   "cell_type": "markdown",
   "id": "fc6b22e6",
   "metadata": {
    "papermill": {
     "duration": 0.013682,
     "end_time": "2024-04-11T16:40:16.211458",
     "exception": false,
     "start_time": "2024-04-11T16:40:16.197776",
     "status": "completed"
    },
    "tags": []
   },
   "source": [
    "Split the data into a training, and testing set."
   ]
  },
  {
   "cell_type": "code",
   "execution_count": 11,
   "id": "1378ddd7",
   "metadata": {
    "execution": {
     "iopub.execute_input": "2024-04-11T16:40:16.242054Z",
     "iopub.status.busy": "2024-04-11T16:40:16.241266Z",
     "iopub.status.idle": "2024-04-11T16:40:16.247756Z",
     "shell.execute_reply": "2024-04-11T16:40:16.246671Z"
    },
    "papermill": {
     "duration": 0.024499,
     "end_time": "2024-04-11T16:40:16.250319",
     "exception": false,
     "start_time": "2024-04-11T16:40:16.225820",
     "status": "completed"
    },
    "tags": []
   },
   "outputs": [],
   "source": [
    "X = df.iloc[:, 1:-1].values\n",
    "y = df.output"
   ]
  },
  {
   "cell_type": "code",
   "execution_count": 12,
   "id": "2d818fd7",
   "metadata": {
    "execution": {
     "iopub.execute_input": "2024-04-11T16:40:16.280544Z",
     "iopub.status.busy": "2024-04-11T16:40:16.279902Z",
     "iopub.status.idle": "2024-04-11T16:40:16.288053Z",
     "shell.execute_reply": "2024-04-11T16:40:16.286981Z"
    },
    "papermill": {
     "duration": 0.026195,
     "end_time": "2024-04-11T16:40:16.290623",
     "exception": false,
     "start_time": "2024-04-11T16:40:16.264428",
     "status": "completed"
    },
    "tags": []
   },
   "outputs": [],
   "source": [
    "X_train, X_test, y_train, y_test = train_test_split(X, y, test_size= 0.2, random_state= 0)"
   ]
  },
  {
   "cell_type": "markdown",
   "id": "7eef34f4",
   "metadata": {
    "papermill": {
     "duration": 0.013502,
     "end_time": "2024-04-11T16:40:16.318406",
     "exception": false,
     "start_time": "2024-04-11T16:40:16.304904",
     "status": "completed"
    },
    "tags": []
   },
   "source": [
    "Feature Scaling."
   ]
  },
  {
   "cell_type": "code",
   "execution_count": 13,
   "id": "7a5bce91",
   "metadata": {
    "execution": {
     "iopub.execute_input": "2024-04-11T16:40:16.349141Z",
     "iopub.status.busy": "2024-04-11T16:40:16.348701Z",
     "iopub.status.idle": "2024-04-11T16:40:16.355902Z",
     "shell.execute_reply": "2024-04-11T16:40:16.354810Z"
    },
    "papermill": {
     "duration": 0.026067,
     "end_time": "2024-04-11T16:40:16.358510",
     "exception": false,
     "start_time": "2024-04-11T16:40:16.332443",
     "status": "completed"
    },
    "tags": []
   },
   "outputs": [],
   "source": [
    "scaler = StandardScaler()\n",
    "X_train = scaler.fit_transform(X_train)\n",
    "X_test = scaler.transform(X_test)"
   ]
  },
  {
   "cell_type": "markdown",
   "id": "2d76bc5c",
   "metadata": {
    "papermill": {
     "duration": 0.013634,
     "end_time": "2024-04-11T16:40:16.386727",
     "exception": false,
     "start_time": "2024-04-11T16:40:16.373093",
     "status": "completed"
    },
    "tags": []
   },
   "source": [
    "# <span style=\"color:#5E6997\">Predict Heart Attacks</span> <a class=\"anchor\" id=\"predict\"></a>"
   ]
  },
  {
   "cell_type": "markdown",
   "id": "ca5ec5ae",
   "metadata": {
    "papermill": {
     "duration": 0.013643,
     "end_time": "2024-04-11T16:40:16.414916",
     "exception": false,
     "start_time": "2024-04-11T16:40:16.401273",
     "status": "completed"
    },
    "tags": []
   },
   "source": [
    "1. Logistic Regression"
   ]
  },
  {
   "cell_type": "code",
   "execution_count": 14,
   "id": "c7396007",
   "metadata": {
    "execution": {
     "iopub.execute_input": "2024-04-11T16:40:16.444454Z",
     "iopub.status.busy": "2024-04-11T16:40:16.444035Z",
     "iopub.status.idle": "2024-04-11T16:40:16.466894Z",
     "shell.execute_reply": "2024-04-11T16:40:16.466072Z"
    },
    "papermill": {
     "duration": 0.040516,
     "end_time": "2024-04-11T16:40:16.469573",
     "exception": false,
     "start_time": "2024-04-11T16:40:16.429057",
     "status": "completed"
    },
    "tags": []
   },
   "outputs": [
    {
     "name": "stdout",
     "output_type": "stream",
     "text": [
      "Confusion Matrix : \n",
      " [[23  4]\n",
      " [ 3 31]]\n",
      "\n",
      "\n",
      "The accuracy of Logistic Regression is :  88.52459016393442 %\n"
     ]
    }
   ],
   "source": [
    "model = LogisticRegression()\n",
    "model.fit(X_train, y_train)\n",
    "predicted=model.predict(X_test)\n",
    "conf = confusion_matrix(y_test, predicted)\n",
    "print (\"Confusion Matrix : \\n\", conf)\n",
    "print()\n",
    "print()\n",
    "print (\"The accuracy of Logistic Regression is : \", accuracy_score(y_test, predicted)*100, \"%\")"
   ]
  },
  {
   "cell_type": "markdown",
   "id": "9befb78a",
   "metadata": {
    "papermill": {
     "duration": 0.014082,
     "end_time": "2024-04-11T16:40:16.498186",
     "exception": false,
     "start_time": "2024-04-11T16:40:16.484104",
     "status": "completed"
    },
    "tags": []
   },
   "source": [
    "2. Gaussian Naive Bayes"
   ]
  },
  {
   "cell_type": "code",
   "execution_count": 15,
   "id": "7134b21a",
   "metadata": {
    "execution": {
     "iopub.execute_input": "2024-04-11T16:40:16.529095Z",
     "iopub.status.busy": "2024-04-11T16:40:16.527933Z",
     "iopub.status.idle": "2024-04-11T16:40:16.537410Z",
     "shell.execute_reply": "2024-04-11T16:40:16.536193Z"
    },
    "papermill": {
     "duration": 0.02727,
     "end_time": "2024-04-11T16:40:16.539686",
     "exception": false,
     "start_time": "2024-04-11T16:40:16.512416",
     "status": "completed"
    },
    "tags": []
   },
   "outputs": [
    {
     "name": "stdout",
     "output_type": "stream",
     "text": [
      "The accuracy of Gaussian Naive Bayes model is :  88.52459016393442 %\n"
     ]
    }
   ],
   "source": [
    "model = GaussianNB()\n",
    "model.fit(X_train, y_train)\n",
    "  \n",
    "predicted = model.predict(X_test)\n",
    "  \n",
    "print(\"The accuracy of Gaussian Naive Bayes model is : \", accuracy_score(y_test, predicted)*100, \"%\")"
   ]
  },
  {
   "cell_type": "markdown",
   "id": "e8a3b7c8",
   "metadata": {
    "papermill": {
     "duration": 0.013822,
     "end_time": "2024-04-11T16:40:16.567844",
     "exception": false,
     "start_time": "2024-04-11T16:40:16.554022",
     "status": "completed"
    },
    "tags": []
   },
   "source": [
    "3.Bernoulli Naive Bayes"
   ]
  },
  {
   "cell_type": "code",
   "execution_count": 16,
   "id": "f4cdc4e8",
   "metadata": {
    "execution": {
     "iopub.execute_input": "2024-04-11T16:40:16.599970Z",
     "iopub.status.busy": "2024-04-11T16:40:16.598662Z",
     "iopub.status.idle": "2024-04-11T16:40:16.615606Z",
     "shell.execute_reply": "2024-04-11T16:40:16.614325Z"
    },
    "papermill": {
     "duration": 0.035359,
     "end_time": "2024-04-11T16:40:16.618345",
     "exception": false,
     "start_time": "2024-04-11T16:40:16.582986",
     "status": "completed"
    },
    "tags": []
   },
   "outputs": [
    {
     "name": "stdout",
     "output_type": "stream",
     "text": [
      "The accuracy of Gaussian Naive Bayes model is :  86.88524590163934 %\n"
     ]
    }
   ],
   "source": [
    "model = BernoulliNB()\n",
    "model.fit(X_train, y_train)\n",
    "  \n",
    "predicted = model.predict(X_test)\n",
    "  \n",
    "print(\"The accuracy of Gaussian Naive Bayes model is : \", accuracy_score(y_test, predicted)*100, \"%\")"
   ]
  },
  {
   "cell_type": "markdown",
   "id": "9a8e2d23",
   "metadata": {
    "execution": {
     "iopub.execute_input": "2024-03-26T05:02:38.522223Z",
     "iopub.status.busy": "2024-03-26T05:02:38.521768Z",
     "iopub.status.idle": "2024-03-26T05:02:38.529145Z",
     "shell.execute_reply": "2024-03-26T05:02:38.527523Z",
     "shell.execute_reply.started": "2024-03-26T05:02:38.522173Z"
    },
    "papermill": {
     "duration": 0.014034,
     "end_time": "2024-04-11T16:40:16.646763",
     "exception": false,
     "start_time": "2024-04-11T16:40:16.632729",
     "status": "completed"
    },
    "tags": []
   },
   "source": [
    "4. Support Vector Machine"
   ]
  },
  {
   "cell_type": "code",
   "execution_count": 17,
   "id": "5f762eb7",
   "metadata": {
    "execution": {
     "iopub.execute_input": "2024-04-11T16:40:16.677373Z",
     "iopub.status.busy": "2024-04-11T16:40:16.676975Z",
     "iopub.status.idle": "2024-04-11T16:40:16.691437Z",
     "shell.execute_reply": "2024-04-11T16:40:16.690068Z"
    },
    "papermill": {
     "duration": 0.032824,
     "end_time": "2024-04-11T16:40:16.694031",
     "exception": false,
     "start_time": "2024-04-11T16:40:16.661207",
     "status": "completed"
    },
    "tags": []
   },
   "outputs": [
    {
     "name": "stdout",
     "output_type": "stream",
     "text": [
      "The accuracy of SVM is :  91.80327868852459 %\n"
     ]
    }
   ],
   "source": [
    "model = SVC()\n",
    "model.fit(X_train, y_train)\n",
    "  \n",
    "predicted = model.predict(X_test)\n",
    "print(\"The accuracy of SVM is : \", accuracy_score(y_test, predicted)*100, \"%\")"
   ]
  },
  {
   "cell_type": "markdown",
   "id": "ec427219",
   "metadata": {
    "papermill": {
     "duration": 0.014083,
     "end_time": "2024-04-11T16:40:16.722824",
     "exception": false,
     "start_time": "2024-04-11T16:40:16.708741",
     "status": "completed"
    },
    "tags": []
   },
   "source": [
    "5. Random Forest"
   ]
  },
  {
   "cell_type": "code",
   "execution_count": 18,
   "id": "b1895580",
   "metadata": {
    "execution": {
     "iopub.execute_input": "2024-04-11T16:40:16.754320Z",
     "iopub.status.busy": "2024-04-11T16:40:16.753951Z",
     "iopub.status.idle": "2024-04-11T16:40:17.032023Z",
     "shell.execute_reply": "2024-04-11T16:40:17.030848Z"
    },
    "papermill": {
     "duration": 0.296951,
     "end_time": "2024-04-11T16:40:17.034365",
     "exception": false,
     "start_time": "2024-04-11T16:40:16.737414",
     "status": "completed"
    },
    "tags": []
   },
   "outputs": [
    {
     "name": "stdout",
     "output_type": "stream",
     "text": [
      "The accuracy of Random Forest is :  85.24590163934425 %\n"
     ]
    }
   ],
   "source": [
    "model = RandomForestRegressor(n_estimators = 100, random_state = 0)  \n",
    "model.fit(X_train, y_train)  \n",
    "predicted = model.predict(X_test)\n",
    "print(\"The accuracy of Random Forest is : \", accuracy_score(y_test, predicted.round())*100, \"%\")"
   ]
  },
  {
   "cell_type": "markdown",
   "id": "ebaa4bac",
   "metadata": {
    "papermill": {
     "duration": 0.014017,
     "end_time": "2024-04-11T16:40:17.062838",
     "exception": false,
     "start_time": "2024-04-11T16:40:17.048821",
     "status": "completed"
    },
    "tags": []
   },
   "source": [
    "6. K Nearest Neighbors"
   ]
  },
  {
   "cell_type": "code",
   "execution_count": 19,
   "id": "c39fc3a9",
   "metadata": {
    "execution": {
     "iopub.execute_input": "2024-04-11T16:40:17.094592Z",
     "iopub.status.busy": "2024-04-11T16:40:17.093911Z",
     "iopub.status.idle": "2024-04-11T16:40:17.110926Z",
     "shell.execute_reply": "2024-04-11T16:40:17.109388Z"
    },
    "papermill": {
     "duration": 0.036863,
     "end_time": "2024-04-11T16:40:17.114320",
     "exception": false,
     "start_time": "2024-04-11T16:40:17.077457",
     "status": "completed"
    },
    "tags": []
   },
   "outputs": [
    {
     "name": "stdout",
     "output_type": "stream",
     "text": [
      "[[23  4]\n",
      " [ 6 28]]\n",
      "The accuracy of KNN is :  83.60655737704919 %\n"
     ]
    }
   ],
   "source": [
    "model = KNeighborsClassifier(n_neighbors = 1)  \n",
    "model.fit(X_train, y_train)\n",
    "predicted = model.predict(X_test)\n",
    "  \n",
    "\n",
    "print(confusion_matrix(y_test, predicted))\n",
    "print(\"The accuracy of KNN is : \", accuracy_score(y_test, predicted.round())*100, \"%\")"
   ]
  },
  {
   "cell_type": "code",
   "execution_count": 20,
   "id": "36272fca",
   "metadata": {
    "execution": {
     "iopub.execute_input": "2024-04-11T16:40:17.157462Z",
     "iopub.status.busy": "2024-04-11T16:40:17.156595Z",
     "iopub.status.idle": "2024-04-11T16:40:17.853703Z",
     "shell.execute_reply": "2024-04-11T16:40:17.852602Z"
    },
    "papermill": {
     "duration": 0.721851,
     "end_time": "2024-04-11T16:40:17.856239",
     "exception": false,
     "start_time": "2024-04-11T16:40:17.134388",
     "status": "completed"
    },
    "tags": []
   },
   "outputs": [
    {
     "data": {
      "text/plain": [
       "Text(0, 0.5, 'Error Rate')"
      ]
     },
     "execution_count": 20,
     "metadata": {},
     "output_type": "execute_result"
    },
    {
     "data": {
      "image/png": "[encoded data removed]",
      "text/plain": [
       "<Figure size 1000x600 with 1 Axes>"
      ]
     },
     "metadata": {},
     "output_type": "display_data"
    }
   ],
   "source": [
    "error_rate = []\n",
    "  \n",
    "for i in range(1, 40):\n",
    "      \n",
    "    model = KNeighborsClassifier(n_neighbors = i)\n",
    "    model.fit(X_train, y_train)\n",
    "    pred_i = model.predict(X_test)\n",
    "    error_rate.append(np.mean(pred_i != y_test))\n",
    "  \n",
    "plt.figure(figsize =(10, 6))\n",
    "plt.plot(range(1, 40), error_rate, color ='blue',\n",
    "                linestyle ='dashed', marker ='o',\n",
    "         markerfacecolor ='red', markersize = 10)\n",
    "  \n",
    "plt.title('Error Rate vs. K Value')\n",
    "plt.xlabel('K')\n",
    "plt.ylabel('Error Rate')"
   ]
  },
  {
   "cell_type": "code",
   "execution_count": 21,
   "id": "104950a1",
   "metadata": {
    "execution": {
     "iopub.execute_input": "2024-04-11T16:40:17.890362Z",
     "iopub.status.busy": "2024-04-11T16:40:17.889463Z",
     "iopub.status.idle": "2024-04-11T16:40:17.906687Z",
     "shell.execute_reply": "2024-04-11T16:40:17.905587Z"
    },
    "papermill": {
     "duration": 0.037117,
     "end_time": "2024-04-11T16:40:17.909360",
     "exception": false,
     "start_time": "2024-04-11T16:40:17.872243",
     "status": "completed"
    },
    "tags": []
   },
   "outputs": [
    {
     "name": "stdout",
     "output_type": "stream",
     "text": [
      "Confusion Matrix :\n",
      "[[25  2]\n",
      " [ 4 30]]\n",
      "\n",
      "\n",
      "The accuracy of KNN is :  90.1639344262295 %\n"
     ]
    }
   ],
   "source": [
    "model = KNeighborsClassifier(n_neighbors = 7)\n",
    "  \n",
    "model.fit(X_train, y_train)\n",
    "predicted = model.predict(X_test)\n",
    "  \n",
    "print('Confusion Matrix :')\n",
    "from sklearn.metrics import classification_report, confusion_matrix\n",
    "print(confusion_matrix(y_test, predicted))\n",
    "\n",
    "print()\n",
    "print()\n",
    "print(\"The accuracy of KNN is : \", accuracy_score(y_test, predicted.round())*100, \"%\")"
   ]
  },
  {
   "cell_type": "markdown",
   "id": "67652a71",
   "metadata": {
    "papermill": {
     "duration": 0.014905,
     "end_time": "2024-04-11T16:40:17.939675",
     "exception": false,
     "start_time": "2024-04-11T16:40:17.924770",
     "status": "completed"
    },
    "tags": []
   },
   "source": [
    "7. XGBoost"
   ]
  },
  {
   "cell_type": "code",
   "execution_count": 22,
   "id": "b31925ee",
   "metadata": {
    "execution": {
     "iopub.execute_input": "2024-04-11T16:40:17.972554Z",
     "iopub.status.busy": "2024-04-11T16:40:17.971746Z",
     "iopub.status.idle": "2024-04-11T16:40:18.076547Z",
     "shell.execute_reply": "2024-04-11T16:40:18.075412Z"
    },
    "papermill": {
     "duration": 0.12387,
     "end_time": "2024-04-11T16:40:18.078926",
     "exception": false,
     "start_time": "2024-04-11T16:40:17.955056",
     "status": "completed"
    },
    "tags": []
   },
   "outputs": [
    {
     "name": "stdout",
     "output_type": "stream",
     "text": [
      "\n",
      "The accuracy of X Gradient Boosting is :  81.9672131147541 %\n"
     ]
    }
   ],
   "source": [
    "model = xgb.XGBClassifier(use_label_encoder=False)\n",
    "model.fit(X_train, y_train)\n",
    "   \n",
    "predicted = model.predict(X_test)\n",
    "   \n",
    "cm = confusion_matrix(y_test, predicted)\n",
    "print()\n",
    "print (\"The accuracy of X Gradient Boosting is : \", accuracy_score(y_test, predicted)*100, \"%\")"
   ]
  },
  {
   "cell_type": "code",
   "execution_count": null,
   "id": "d288fcf2",
   "metadata": {
    "papermill": {
     "duration": 0.015151,
     "end_time": "2024-04-11T16:40:18.110856",
     "exception": false,
     "start_time": "2024-04-11T16:40:18.095705",
     "status": "completed"
    },
    "tags": []
   },
   "outputs": [],
   "source": []
  }
 ],
 "metadata": {
  "kaggle": {
   "accelerator": "none",
   "dataSources": [
    {
     "datasetId": 1226038,
     "sourceId": 2047221,
     "sourceType": "datasetVersion"
    }
   ],
   "dockerImageVersionId": 30664,
   "isGpuEnabled": false,
   "isInternetEnabled": true,
   "language": "python",
   "sourceType": "notebook"
  },
  "kernelspec": {
   "display_name": "Python 3",
   "language": "python",
   "name": "python3"
  },
  "language_info": {
   "codemirror_mode": {
    "name": "ipython",
    "version": 3
   },
   "file_extension": ".py",
   "mimetype": "text/x-python",
   "name": "python",
   "nbconvert_exporter": "python",
   "pygments_lexer": "ipython3",
   "version": "3.10.13"
  },
  "papermill": {
   "default_parameters": {},
   "duration": 9.936162,
   "end_time": "2024-04-11T16:40:18.749685",
   "environment_variables": {},
   "exception": null,
   "input_path": "__notebook__.ipynb",
   "output_path": "__notebook__.ipynb",
   "parameters": {},
   "start_time": "2024-04-11T16:40:08.813523",
   "version": "2.5.0"
  }
 },
 "nbformat": 4,
 "nbformat_minor": 5
}
