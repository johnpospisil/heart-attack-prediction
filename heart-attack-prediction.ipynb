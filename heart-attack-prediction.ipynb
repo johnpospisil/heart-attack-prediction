{
 "cells": [
  {
   "cell_type": "markdown",
   "id": "113b5910",
   "metadata": {
    "execution": {
     "iopub.execute_input": "2024-04-11T16:31:58.682851Z",
     "iopub.status.busy": "2024-04-11T16:31:58.682451Z",
     "iopub.status.idle": "2024-04-11T16:31:58.718967Z",
     "shell.execute_reply": "2024-04-11T16:31:58.718011Z",
     "shell.execute_reply.started": "2024-04-11T16:31:58.682821Z"
    },
    "papermill": {
     "duration": 0.014697,
     "end_time": "2024-04-12T22:24:33.425563",
     "exception": false,
     "start_time": "2024-04-12T22:24:33.410866",
     "status": "completed"
    },
    "tags": []
   },
   "source": [
    "# Heart Attack Predicition - Finding the Best Predictive Model"
   ]
  },
  {
   "cell_type": "markdown",
   "id": "239cbfd1",
   "metadata": {
    "papermill": {
     "duration": 0.013382,
     "end_time": "2024-04-12T22:24:33.452861",
     "exception": false,
     "start_time": "2024-04-12T22:24:33.439479",
     "status": "completed"
    },
    "tags": []
   },
   "source": [
    "### **Table of Contents**\n",
    "* [<span style=\"color:#A690A4\"> 0. Executive Summary](#exe_sum)\n",
    "* [<span style=\"color:#A690A4\"> 1. Introduction](#intro)\n",
    "* [<span style=\"color:#A690A4\"> 2. Collect, Wrangle & Explore](#process)\n",
    "* [<span style=\"color:#A690A4\"> 3. Predict Life Expectancy](#predict)"
   ]
  },
  {
   "cell_type": "markdown",
   "id": "ce043525",
   "metadata": {
    "papermill": {
     "duration": 0.013435,
     "end_time": "2024-04-12T22:24:33.480046",
     "exception": false,
     "start_time": "2024-04-12T22:24:33.466611",
     "status": "completed"
    },
    "tags": []
   },
   "source": [
    "# <span style=\"color:#5E6997\">Executive Summary</span> <a class=\"anchor\" id=\"exe_sum\"></a>"
   ]
  },
  {
   "cell_type": "markdown",
   "id": "d9f46d46",
   "metadata": {
    "papermill": {
     "duration": 0.014378,
     "end_time": "2024-04-12T22:24:33.508183",
     "exception": false,
     "start_time": "2024-04-12T22:24:33.493805",
     "status": "completed"
    },
    "tags": []
   },
   "source": [
    "# <span style=\"color:#5E6997\">Introduction</span> <a class=\"anchor\" id=\"intro\"></a>"
   ]
  },
  {
   "cell_type": "markdown",
   "id": "dc27d29a",
   "metadata": {
    "papermill": {
     "duration": 0.013417,
     "end_time": "2024-04-12T22:24:33.535231",
     "exception": false,
     "start_time": "2024-04-12T22:24:33.521814",
     "status": "completed"
    },
    "tags": []
   },
   "source": [
    "# <span style=\"color:#5E6997\">Collect, Wrangle, and Explore</span> <a class=\"anchor\" id=\"process\"></a>"
   ]
  },
  {
   "cell_type": "markdown",
   "id": "b8b0ac53",
   "metadata": {
    "papermill": {
     "duration": 0.013947,
     "end_time": "2024-04-12T22:24:33.563148",
     "exception": false,
     "start_time": "2024-04-12T22:24:33.549201",
     "status": "completed"
    },
    "tags": []
   },
   "source": [
    "Below is data collection and wrangling."
   ]
  },
  {
   "cell_type": "markdown",
   "id": "97bbcc72",
   "metadata": {
    "papermill": {
     "duration": 0.013435,
     "end_time": "2024-04-12T22:24:33.590575",
     "exception": false,
     "start_time": "2024-04-12T22:24:33.577140",
     "status": "completed"
    },
    "tags": []
   },
   "source": [
    "Data will be explored in this [Tableau chart](https://public.tableau.com/views/HeartAttackAnalysis_17120977864890/Sheet1?:language=en-US&:sid=&:display_count=n&:origin=viz_share_link)."
   ]
  },
  {
   "cell_type": "code",
   "execution_count": 1,
   "id": "8c57fd5d",
   "metadata": {
    "_cell_guid": "b1076dfc-b9ad-4769-8c92-a6c4dae69d19",
    "_uuid": "8f2839f25d086af736a60e9eeb907d3b93b6e0e5",
    "execution": {
     "iopub.execute_input": "2024-04-12T22:24:33.619659Z",
     "iopub.status.busy": "2024-04-12T22:24:33.619255Z",
     "iopub.status.idle": "2024-04-12T22:24:36.979474Z",
     "shell.execute_reply": "2024-04-12T22:24:36.978205Z"
    },
    "papermill": {
     "duration": 3.378286,
     "end_time": "2024-04-12T22:24:36.982413",
     "exception": false,
     "start_time": "2024-04-12T22:24:33.604127",
     "status": "completed"
    },
    "tags": []
   },
   "outputs": [],
   "source": [
    "import seaborn as sns\n",
    "import numpy as np \n",
    "import pandas as pd \n",
    "import matplotlib.pyplot as plt\n",
    "from sklearn.model_selection import train_test_split\n",
    "from sklearn.preprocessing import StandardScaler \n",
    "from sklearn.svm import SVC\n",
    "from sklearn.linear_model import LogisticRegression\n",
    "import xgboost as xgb\n",
    "from sklearn.metrics import accuracy_score\n",
    "from sklearn.neighbors import KNeighborsClassifier  \n",
    "from sklearn.ensemble import RandomForestRegressor\n",
    "from sklearn.neighbors import KNeighborsClassifier\n",
    "from sklearn.naive_bayes import BernoulliNB\n",
    "from sklearn.naive_bayes import GaussianNB\n",
    "from sklearn.metrics import confusion_matrix\n",
    "import warnings"
   ]
  },
  {
   "cell_type": "code",
   "execution_count": 2,
   "id": "ba82dd05",
   "metadata": {
    "execution": {
     "iopub.execute_input": "2024-04-12T22:24:37.012182Z",
     "iopub.status.busy": "2024-04-12T22:24:37.011626Z",
     "iopub.status.idle": "2024-04-12T22:24:37.061537Z",
     "shell.execute_reply": "2024-04-12T22:24:37.060374Z"
    },
    "papermill": {
     "duration": 0.067891,
     "end_time": "2024-04-12T22:24:37.064215",
     "exception": false,
     "start_time": "2024-04-12T22:24:36.996324",
     "status": "completed"
    },
    "tags": []
   },
   "outputs": [
    {
     "data": {
      "text/html": [
       "<div>\n",
       "<style scoped>\n",
       "    .dataframe tbody tr th:only-of-type {\n",
       "        vertical-align: middle;\n",
       "    }\n",
       "\n",
       "    .dataframe tbody tr th {\n",
       "        vertical-align: top;\n",
       "    }\n",
       "\n",
       "    .dataframe thead th {\n",
       "        text-align: right;\n",
       "    }\n",
       "</style>\n",
       "<table border=\"1\" class=\"dataframe\">\n",
       "  <thead>\n",
       "    <tr style=\"text-align: right;\">\n",
       "      <th></th>\n",
       "      <th>age</th>\n",
       "      <th>sex</th>\n",
       "      <th>cp</th>\n",
       "      <th>trtbps</th>\n",
       "      <th>chol</th>\n",
       "      <th>fbs</th>\n",
       "      <th>restecg</th>\n",
       "      <th>thalachh</th>\n",
       "      <th>exng</th>\n",
       "      <th>oldpeak</th>\n",
       "      <th>slp</th>\n",
       "      <th>caa</th>\n",
       "      <th>thall</th>\n",
       "      <th>output</th>\n",
       "    </tr>\n",
       "  </thead>\n",
       "  <tbody>\n",
       "    <tr>\n",
       "      <th>0</th>\n",
       "      <td>63</td>\n",
       "      <td>1</td>\n",
       "      <td>3</td>\n",
       "      <td>145</td>\n",
       "      <td>233</td>\n",
       "      <td>1</td>\n",
       "      <td>0</td>\n",
       "      <td>150</td>\n",
       "      <td>0</td>\n",
       "      <td>2.3</td>\n",
       "      <td>0</td>\n",
       "      <td>0</td>\n",
       "      <td>1</td>\n",
       "      <td>1</td>\n",
       "    </tr>\n",
       "    <tr>\n",
       "      <th>1</th>\n",
       "      <td>37</td>\n",
       "      <td>1</td>\n",
       "      <td>2</td>\n",
       "      <td>130</td>\n",
       "      <td>250</td>\n",
       "      <td>0</td>\n",
       "      <td>1</td>\n",
       "      <td>187</td>\n",
       "      <td>0</td>\n",
       "      <td>3.5</td>\n",
       "      <td>0</td>\n",
       "      <td>0</td>\n",
       "      <td>2</td>\n",
       "      <td>1</td>\n",
       "    </tr>\n",
       "    <tr>\n",
       "      <th>2</th>\n",
       "      <td>41</td>\n",
       "      <td>0</td>\n",
       "      <td>1</td>\n",
       "      <td>130</td>\n",
       "      <td>204</td>\n",
       "      <td>0</td>\n",
       "      <td>0</td>\n",
       "      <td>172</td>\n",
       "      <td>0</td>\n",
       "      <td>1.4</td>\n",
       "      <td>2</td>\n",
       "      <td>0</td>\n",
       "      <td>2</td>\n",
       "      <td>1</td>\n",
       "    </tr>\n",
       "    <tr>\n",
       "      <th>3</th>\n",
       "      <td>56</td>\n",
       "      <td>1</td>\n",
       "      <td>1</td>\n",
       "      <td>120</td>\n",
       "      <td>236</td>\n",
       "      <td>0</td>\n",
       "      <td>1</td>\n",
       "      <td>178</td>\n",
       "      <td>0</td>\n",
       "      <td>0.8</td>\n",
       "      <td>2</td>\n",
       "      <td>0</td>\n",
       "      <td>2</td>\n",
       "      <td>1</td>\n",
       "    </tr>\n",
       "    <tr>\n",
       "      <th>4</th>\n",
       "      <td>57</td>\n",
       "      <td>0</td>\n",
       "      <td>0</td>\n",
       "      <td>120</td>\n",
       "      <td>354</td>\n",
       "      <td>0</td>\n",
       "      <td>1</td>\n",
       "      <td>163</td>\n",
       "      <td>1</td>\n",
       "      <td>0.6</td>\n",
       "      <td>2</td>\n",
       "      <td>0</td>\n",
       "      <td>2</td>\n",
       "      <td>1</td>\n",
       "    </tr>\n",
       "  </tbody>\n",
       "</table>\n",
       "</div>"
      ],
      "text/plain": [
       "   age  sex  cp  trtbps  chol  fbs  restecg  thalachh  exng  oldpeak  slp  \\\n",
       "0   63    1   3     145   233    1        0       150     0      2.3    0   \n",
       "1   37    1   2     130   250    0        1       187     0      3.5    0   \n",
       "2   41    0   1     130   204    0        0       172     0      1.4    2   \n",
       "3   56    1   1     120   236    0        1       178     0      0.8    2   \n",
       "4   57    0   0     120   354    0        1       163     1      0.6    2   \n",
       "\n",
       "   caa  thall  output  \n",
       "0    0      1       1  \n",
       "1    0      2       1  \n",
       "2    0      2       1  \n",
       "3    0      2       1  \n",
       "4    0      2       1  "
      ]
     },
     "execution_count": 2,
     "metadata": {},
     "output_type": "execute_result"
    }
   ],
   "source": [
    "df = pd.read_csv('/kaggle/input/heart-attack-analysis-prediction-dataset/heart.csv')\n",
    "df.head()"
   ]
  },
  {
   "cell_type": "markdown",
   "id": "e3f7851a",
   "metadata": {
    "papermill": {
     "duration": 0.013907,
     "end_time": "2024-04-12T22:24:37.092766",
     "exception": false,
     "start_time": "2024-04-12T22:24:37.078859",
     "status": "completed"
    },
    "tags": []
   },
   "source": [
    "#### Description of Data\n",
    "<ul>\n",
    "    <li><strong>age</strong> - Age of the person.</li>\n",
    "    <li><strong>sex</strong> - Gender of the person.</li>\n",
    "    <li><strong>cp</strong> - Chest Pain type.</li>\n",
    "    <ul>\n",
    "        <li><strong>0</strong> - typical angina</li>\n",
    "        <li><strong>1</strong> - atypical angina</li>\n",
    "        <li><strong>2</strong> - non-anginal pain</li>\n",
    "        <li><strong>3</strong> - asymptomatic</li>\n",
    "    </ul>\n",
    "    <li><strong>trtbps</strong> - resting blood pressure (in mm Hg).</li>\n",
    "    <li><strong>chol</strong> - cholestoral in mg/dl fetched via BMI sensor.</li>\n",
    "    <li><strong>fbs</strong> - (fasting blood sugar > 120 mg/dl) (1 = true; 0 = false).</li>\n",
    "    <li><strong>restecg</strong> - resting electrocardiographic results.</li>\n",
    "    <li><strong>thalachh</strong> - maximum heart rate achieved.</li>\n",
    "    <li><strong>exng</strong> - exercise induced angina (1 = yes; 0 = no).</li>\n",
    "    <li><strong>oldpeak</strong> - Previous peak.</li>\n",
    "    <li><strong>slp</strong> - Slope.</li>\n",
    "    <li><strong>caa</strong> - number of major vessels (0-3).</li>\n",
    "    <li><strong>thall</strong> - Thal rate.</li>\n",
    "    <li><strong>output</strong> - Target variable.</li>\n",
    "</ul>"
   ]
  },
  {
   "cell_type": "code",
   "execution_count": 3,
   "id": "66ea5e68",
   "metadata": {
    "execution": {
     "iopub.execute_input": "2024-04-12T22:24:37.125368Z",
     "iopub.status.busy": "2024-04-12T22:24:37.124922Z",
     "iopub.status.idle": "2024-04-12T22:24:37.152909Z",
     "shell.execute_reply": "2024-04-12T22:24:37.151379Z"
    },
    "papermill": {
     "duration": 0.047566,
     "end_time": "2024-04-12T22:24:37.155431",
     "exception": false,
     "start_time": "2024-04-12T22:24:37.107865",
     "status": "completed"
    },
    "tags": []
   },
   "outputs": [
    {
     "name": "stdout",
     "output_type": "stream",
     "text": [
      "<class 'pandas.core.frame.DataFrame'>\n",
      "RangeIndex: 303 entries, 0 to 302\n",
      "Data columns (total 14 columns):\n",
      " #   Column    Non-Null Count  Dtype  \n",
      "---  ------    --------------  -----  \n",
      " 0   age       303 non-null    int64  \n",
      " 1   sex       303 non-null    int64  \n",
      " 2   cp        303 non-null    int64  \n",
      " 3   trtbps    303 non-null    int64  \n",
      " 4   chol      303 non-null    int64  \n",
      " 5   fbs       303 non-null    int64  \n",
      " 6   restecg   303 non-null    int64  \n",
      " 7   thalachh  303 non-null    int64  \n",
      " 8   exng      303 non-null    int64  \n",
      " 9   oldpeak   303 non-null    float64\n",
      " 10  slp       303 non-null    int64  \n",
      " 11  caa       303 non-null    int64  \n",
      " 12  thall     303 non-null    int64  \n",
      " 13  output    303 non-null    int64  \n",
      "dtypes: float64(1), int64(13)\n",
      "memory usage: 33.3 KB\n"
     ]
    }
   ],
   "source": [
    "df.info()"
   ]
  },
  {
   "cell_type": "code",
   "execution_count": 4,
   "id": "f410eeb1",
   "metadata": {
    "execution": {
     "iopub.execute_input": "2024-04-12T22:24:37.186388Z",
     "iopub.status.busy": "2024-04-12T22:24:37.185626Z",
     "iopub.status.idle": "2024-04-12T22:24:37.237803Z",
     "shell.execute_reply": "2024-04-12T22:24:37.236507Z"
    },
    "papermill": {
     "duration": 0.070438,
     "end_time": "2024-04-12T22:24:37.240226",
     "exception": false,
     "start_time": "2024-04-12T22:24:37.169788",
     "status": "completed"
    },
    "tags": []
   },
   "outputs": [
    {
     "data": {
      "text/html": [
       "<div>\n",
       "<style scoped>\n",
       "    .dataframe tbody tr th:only-of-type {\n",
       "        vertical-align: middle;\n",
       "    }\n",
       "\n",
       "    .dataframe tbody tr th {\n",
       "        vertical-align: top;\n",
       "    }\n",
       "\n",
       "    .dataframe thead th {\n",
       "        text-align: right;\n",
       "    }\n",
       "</style>\n",
       "<table border=\"1\" class=\"dataframe\">\n",
       "  <thead>\n",
       "    <tr style=\"text-align: right;\">\n",
       "      <th></th>\n",
       "      <th>age</th>\n",
       "      <th>sex</th>\n",
       "      <th>cp</th>\n",
       "      <th>trtbps</th>\n",
       "      <th>chol</th>\n",
       "      <th>fbs</th>\n",
       "      <th>restecg</th>\n",
       "      <th>thalachh</th>\n",
       "      <th>exng</th>\n",
       "      <th>oldpeak</th>\n",
       "      <th>slp</th>\n",
       "      <th>caa</th>\n",
       "      <th>thall</th>\n",
       "      <th>output</th>\n",
       "    </tr>\n",
       "  </thead>\n",
       "  <tbody>\n",
       "    <tr>\n",
       "      <th>count</th>\n",
       "      <td>303.000000</td>\n",
       "      <td>303.000000</td>\n",
       "      <td>303.000000</td>\n",
       "      <td>303.000000</td>\n",
       "      <td>303.000000</td>\n",
       "      <td>303.000000</td>\n",
       "      <td>303.000000</td>\n",
       "      <td>303.000000</td>\n",
       "      <td>303.000000</td>\n",
       "      <td>303.000000</td>\n",
       "      <td>303.000000</td>\n",
       "      <td>303.000000</td>\n",
       "      <td>303.000000</td>\n",
       "      <td>303.000000</td>\n",
       "    </tr>\n",
       "    <tr>\n",
       "      <th>mean</th>\n",
       "      <td>54.366337</td>\n",
       "      <td>0.683168</td>\n",
       "      <td>0.966997</td>\n",
       "      <td>131.623762</td>\n",
       "      <td>246.264026</td>\n",
       "      <td>0.148515</td>\n",
       "      <td>0.528053</td>\n",
       "      <td>149.646865</td>\n",
       "      <td>0.326733</td>\n",
       "      <td>1.039604</td>\n",
       "      <td>1.399340</td>\n",
       "      <td>0.729373</td>\n",
       "      <td>2.313531</td>\n",
       "      <td>0.544554</td>\n",
       "    </tr>\n",
       "    <tr>\n",
       "      <th>std</th>\n",
       "      <td>9.082101</td>\n",
       "      <td>0.466011</td>\n",
       "      <td>1.032052</td>\n",
       "      <td>17.538143</td>\n",
       "      <td>51.830751</td>\n",
       "      <td>0.356198</td>\n",
       "      <td>0.525860</td>\n",
       "      <td>22.905161</td>\n",
       "      <td>0.469794</td>\n",
       "      <td>1.161075</td>\n",
       "      <td>0.616226</td>\n",
       "      <td>1.022606</td>\n",
       "      <td>0.612277</td>\n",
       "      <td>0.498835</td>\n",
       "    </tr>\n",
       "    <tr>\n",
       "      <th>min</th>\n",
       "      <td>29.000000</td>\n",
       "      <td>0.000000</td>\n",
       "      <td>0.000000</td>\n",
       "      <td>94.000000</td>\n",
       "      <td>126.000000</td>\n",
       "      <td>0.000000</td>\n",
       "      <td>0.000000</td>\n",
       "      <td>71.000000</td>\n",
       "      <td>0.000000</td>\n",
       "      <td>0.000000</td>\n",
       "      <td>0.000000</td>\n",
       "      <td>0.000000</td>\n",
       "      <td>0.000000</td>\n",
       "      <td>0.000000</td>\n",
       "    </tr>\n",
       "    <tr>\n",
       "      <th>25%</th>\n",
       "      <td>47.500000</td>\n",
       "      <td>0.000000</td>\n",
       "      <td>0.000000</td>\n",
       "      <td>120.000000</td>\n",
       "      <td>211.000000</td>\n",
       "      <td>0.000000</td>\n",
       "      <td>0.000000</td>\n",
       "      <td>133.500000</td>\n",
       "      <td>0.000000</td>\n",
       "      <td>0.000000</td>\n",
       "      <td>1.000000</td>\n",
       "      <td>0.000000</td>\n",
       "      <td>2.000000</td>\n",
       "      <td>0.000000</td>\n",
       "    </tr>\n",
       "    <tr>\n",
       "      <th>50%</th>\n",
       "      <td>55.000000</td>\n",
       "      <td>1.000000</td>\n",
       "      <td>1.000000</td>\n",
       "      <td>130.000000</td>\n",
       "      <td>240.000000</td>\n",
       "      <td>0.000000</td>\n",
       "      <td>1.000000</td>\n",
       "      <td>153.000000</td>\n",
       "      <td>0.000000</td>\n",
       "      <td>0.800000</td>\n",
       "      <td>1.000000</td>\n",
       "      <td>0.000000</td>\n",
       "      <td>2.000000</td>\n",
       "      <td>1.000000</td>\n",
       "    </tr>\n",
       "    <tr>\n",
       "      <th>75%</th>\n",
       "      <td>61.000000</td>\n",
       "      <td>1.000000</td>\n",
       "      <td>2.000000</td>\n",
       "      <td>140.000000</td>\n",
       "      <td>274.500000</td>\n",
       "      <td>0.000000</td>\n",
       "      <td>1.000000</td>\n",
       "      <td>166.000000</td>\n",
       "      <td>1.000000</td>\n",
       "      <td>1.600000</td>\n",
       "      <td>2.000000</td>\n",
       "      <td>1.000000</td>\n",
       "      <td>3.000000</td>\n",
       "      <td>1.000000</td>\n",
       "    </tr>\n",
       "    <tr>\n",
       "      <th>max</th>\n",
       "      <td>77.000000</td>\n",
       "      <td>1.000000</td>\n",
       "      <td>3.000000</td>\n",
       "      <td>200.000000</td>\n",
       "      <td>564.000000</td>\n",
       "      <td>1.000000</td>\n",
       "      <td>2.000000</td>\n",
       "      <td>202.000000</td>\n",
       "      <td>1.000000</td>\n",
       "      <td>6.200000</td>\n",
       "      <td>2.000000</td>\n",
       "      <td>4.000000</td>\n",
       "      <td>3.000000</td>\n",
       "      <td>1.000000</td>\n",
       "    </tr>\n",
       "  </tbody>\n",
       "</table>\n",
       "</div>"
      ],
      "text/plain": [
       "              age         sex          cp      trtbps        chol         fbs  \\\n",
       "count  303.000000  303.000000  303.000000  303.000000  303.000000  303.000000   \n",
       "mean    54.366337    0.683168    0.966997  131.623762  246.264026    0.148515   \n",
       "std      9.082101    0.466011    1.032052   17.538143   51.830751    0.356198   \n",
       "min     29.000000    0.000000    0.000000   94.000000  126.000000    0.000000   \n",
       "25%     47.500000    0.000000    0.000000  120.000000  211.000000    0.000000   \n",
       "50%     55.000000    1.000000    1.000000  130.000000  240.000000    0.000000   \n",
       "75%     61.000000    1.000000    2.000000  140.000000  274.500000    0.000000   \n",
       "max     77.000000    1.000000    3.000000  200.000000  564.000000    1.000000   \n",
       "\n",
       "          restecg    thalachh        exng     oldpeak         slp         caa  \\\n",
       "count  303.000000  303.000000  303.000000  303.000000  303.000000  303.000000   \n",
       "mean     0.528053  149.646865    0.326733    1.039604    1.399340    0.729373   \n",
       "std      0.525860   22.905161    0.469794    1.161075    0.616226    1.022606   \n",
       "min      0.000000   71.000000    0.000000    0.000000    0.000000    0.000000   \n",
       "25%      0.000000  133.500000    0.000000    0.000000    1.000000    0.000000   \n",
       "50%      1.000000  153.000000    0.000000    0.800000    1.000000    0.000000   \n",
       "75%      1.000000  166.000000    1.000000    1.600000    2.000000    1.000000   \n",
       "max      2.000000  202.000000    1.000000    6.200000    2.000000    4.000000   \n",
       "\n",
       "            thall      output  \n",
       "count  303.000000  303.000000  \n",
       "mean     2.313531    0.544554  \n",
       "std      0.612277    0.498835  \n",
       "min      0.000000    0.000000  \n",
       "25%      2.000000    0.000000  \n",
       "50%      2.000000    1.000000  \n",
       "75%      3.000000    1.000000  \n",
       "max      3.000000    1.000000  "
      ]
     },
     "execution_count": 4,
     "metadata": {},
     "output_type": "execute_result"
    }
   ],
   "source": [
    "df.describe()"
   ]
  },
  {
   "cell_type": "markdown",
   "id": "20705c7e",
   "metadata": {
    "papermill": {
     "duration": 0.015178,
     "end_time": "2024-04-12T22:24:37.270141",
     "exception": false,
     "start_time": "2024-04-12T22:24:37.254963",
     "status": "completed"
    },
    "tags": []
   },
   "source": [
    "Check for any NULL values."
   ]
  },
  {
   "cell_type": "code",
   "execution_count": 5,
   "id": "497453e8",
   "metadata": {
    "execution": {
     "iopub.execute_input": "2024-04-12T22:24:37.303405Z",
     "iopub.status.busy": "2024-04-12T22:24:37.302982Z",
     "iopub.status.idle": "2024-04-12T22:24:37.311566Z",
     "shell.execute_reply": "2024-04-12T22:24:37.310382Z"
    },
    "papermill": {
     "duration": 0.027905,
     "end_time": "2024-04-12T22:24:37.314140",
     "exception": false,
     "start_time": "2024-04-12T22:24:37.286235",
     "status": "completed"
    },
    "tags": []
   },
   "outputs": [
    {
     "data": {
      "text/plain": [
       "age         0\n",
       "sex         0\n",
       "cp          0\n",
       "trtbps      0\n",
       "chol        0\n",
       "fbs         0\n",
       "restecg     0\n",
       "thalachh    0\n",
       "exng        0\n",
       "oldpeak     0\n",
       "slp         0\n",
       "caa         0\n",
       "thall       0\n",
       "output      0\n",
       "dtype: int64"
      ]
     },
     "execution_count": 5,
     "metadata": {},
     "output_type": "execute_result"
    }
   ],
   "source": [
    "df.isnull().sum()"
   ]
  },
  {
   "cell_type": "markdown",
   "id": "30431728",
   "metadata": {
    "papermill": {
     "duration": 0.015829,
     "end_time": "2024-04-12T22:24:37.345018",
     "exception": false,
     "start_time": "2024-04-12T22:24:37.329189",
     "status": "completed"
    },
    "tags": []
   },
   "source": [
    "Check for duplicates."
   ]
  },
  {
   "cell_type": "code",
   "execution_count": 6,
   "id": "9b9fba6d",
   "metadata": {
    "execution": {
     "iopub.execute_input": "2024-04-12T22:24:37.376666Z",
     "iopub.status.busy": "2024-04-12T22:24:37.376285Z",
     "iopub.status.idle": "2024-04-12T22:24:37.385646Z",
     "shell.execute_reply": "2024-04-12T22:24:37.384185Z"
    },
    "papermill": {
     "duration": 0.02807,
     "end_time": "2024-04-12T22:24:37.388098",
     "exception": false,
     "start_time": "2024-04-12T22:24:37.360028",
     "status": "completed"
    },
    "tags": []
   },
   "outputs": [
    {
     "data": {
      "text/plain": [
       "1"
      ]
     },
     "execution_count": 6,
     "metadata": {},
     "output_type": "execute_result"
    }
   ],
   "source": [
    "df.duplicated().sum()"
   ]
  },
  {
   "cell_type": "code",
   "execution_count": 7,
   "id": "16300772",
   "metadata": {
    "execution": {
     "iopub.execute_input": "2024-04-12T22:24:37.420619Z",
     "iopub.status.busy": "2024-04-12T22:24:37.420242Z",
     "iopub.status.idle": "2024-04-12T22:24:37.426942Z",
     "shell.execute_reply": "2024-04-12T22:24:37.425638Z"
    },
    "papermill": {
     "duration": 0.025583,
     "end_time": "2024-04-12T22:24:37.429123",
     "exception": false,
     "start_time": "2024-04-12T22:24:37.403540",
     "status": "completed"
    },
    "tags": []
   },
   "outputs": [
    {
     "data": {
      "text/plain": [
       "(303, 14)"
      ]
     },
     "execution_count": 7,
     "metadata": {},
     "output_type": "execute_result"
    }
   ],
   "source": [
    "df.shape"
   ]
  },
  {
   "cell_type": "code",
   "execution_count": 8,
   "id": "ea291008",
   "metadata": {
    "execution": {
     "iopub.execute_input": "2024-04-12T22:24:37.462893Z",
     "iopub.status.busy": "2024-04-12T22:24:37.461750Z",
     "iopub.status.idle": "2024-04-12T22:24:37.471141Z",
     "shell.execute_reply": "2024-04-12T22:24:37.470285Z"
    },
    "papermill": {
     "duration": 0.028366,
     "end_time": "2024-04-12T22:24:37.473255",
     "exception": false,
     "start_time": "2024-04-12T22:24:37.444889",
     "status": "completed"
    },
    "tags": []
   },
   "outputs": [],
   "source": [
    "df = df.drop_duplicates()"
   ]
  },
  {
   "cell_type": "code",
   "execution_count": 9,
   "id": "d51d67d5",
   "metadata": {
    "execution": {
     "iopub.execute_input": "2024-04-12T22:24:37.505382Z",
     "iopub.status.busy": "2024-04-12T22:24:37.504946Z",
     "iopub.status.idle": "2024-04-12T22:24:37.511586Z",
     "shell.execute_reply": "2024-04-12T22:24:37.510478Z"
    },
    "papermill": {
     "duration": 0.025444,
     "end_time": "2024-04-12T22:24:37.513840",
     "exception": false,
     "start_time": "2024-04-12T22:24:37.488396",
     "status": "completed"
    },
    "tags": []
   },
   "outputs": [
    {
     "data": {
      "text/plain": [
       "(302, 14)"
      ]
     },
     "execution_count": 9,
     "metadata": {},
     "output_type": "execute_result"
    }
   ],
   "source": [
    "df.shape"
   ]
  },
  {
   "cell_type": "markdown",
   "id": "446c3044",
   "metadata": {
    "papermill": {
     "duration": 0.014815,
     "end_time": "2024-04-12T22:24:37.543898",
     "exception": false,
     "start_time": "2024-04-12T22:24:37.529083",
     "status": "completed"
    },
    "tags": []
   },
   "source": [
    "One-hot encode the 'cp' column."
   ]
  },
  {
   "cell_type": "code",
   "execution_count": 10,
   "id": "0f4e1b84",
   "metadata": {
    "execution": {
     "iopub.execute_input": "2024-04-12T22:24:37.576087Z",
     "iopub.status.busy": "2024-04-12T22:24:37.575668Z",
     "iopub.status.idle": "2024-04-12T22:24:37.597132Z",
     "shell.execute_reply": "2024-04-12T22:24:37.595936Z"
    },
    "papermill": {
     "duration": 0.040573,
     "end_time": "2024-04-12T22:24:37.599616",
     "exception": false,
     "start_time": "2024-04-12T22:24:37.559043",
     "status": "completed"
    },
    "tags": []
   },
   "outputs": [
    {
     "data": {
      "text/html": [
       "<div>\n",
       "<style scoped>\n",
       "    .dataframe tbody tr th:only-of-type {\n",
       "        vertical-align: middle;\n",
       "    }\n",
       "\n",
       "    .dataframe tbody tr th {\n",
       "        vertical-align: top;\n",
       "    }\n",
       "\n",
       "    .dataframe thead th {\n",
       "        text-align: right;\n",
       "    }\n",
       "</style>\n",
       "<table border=\"1\" class=\"dataframe\">\n",
       "  <thead>\n",
       "    <tr style=\"text-align: right;\">\n",
       "      <th></th>\n",
       "      <th>age</th>\n",
       "      <th>sex</th>\n",
       "      <th>trtbps</th>\n",
       "      <th>chol</th>\n",
       "      <th>fbs</th>\n",
       "      <th>restecg</th>\n",
       "      <th>thalachh</th>\n",
       "      <th>exng</th>\n",
       "      <th>oldpeak</th>\n",
       "      <th>slp</th>\n",
       "      <th>caa</th>\n",
       "      <th>thall</th>\n",
       "      <th>output</th>\n",
       "      <th>cp_0</th>\n",
       "      <th>cp_1</th>\n",
       "      <th>cp_2</th>\n",
       "      <th>cp_3</th>\n",
       "    </tr>\n",
       "  </thead>\n",
       "  <tbody>\n",
       "    <tr>\n",
       "      <th>0</th>\n",
       "      <td>63</td>\n",
       "      <td>1</td>\n",
       "      <td>145</td>\n",
       "      <td>233</td>\n",
       "      <td>1</td>\n",
       "      <td>0</td>\n",
       "      <td>150</td>\n",
       "      <td>0</td>\n",
       "      <td>2.3</td>\n",
       "      <td>0</td>\n",
       "      <td>0</td>\n",
       "      <td>1</td>\n",
       "      <td>1</td>\n",
       "      <td>0</td>\n",
       "      <td>0</td>\n",
       "      <td>0</td>\n",
       "      <td>1</td>\n",
       "    </tr>\n",
       "    <tr>\n",
       "      <th>1</th>\n",
       "      <td>37</td>\n",
       "      <td>1</td>\n",
       "      <td>130</td>\n",
       "      <td>250</td>\n",
       "      <td>0</td>\n",
       "      <td>1</td>\n",
       "      <td>187</td>\n",
       "      <td>0</td>\n",
       "      <td>3.5</td>\n",
       "      <td>0</td>\n",
       "      <td>0</td>\n",
       "      <td>2</td>\n",
       "      <td>1</td>\n",
       "      <td>0</td>\n",
       "      <td>0</td>\n",
       "      <td>1</td>\n",
       "      <td>0</td>\n",
       "    </tr>\n",
       "    <tr>\n",
       "      <th>2</th>\n",
       "      <td>41</td>\n",
       "      <td>0</td>\n",
       "      <td>130</td>\n",
       "      <td>204</td>\n",
       "      <td>0</td>\n",
       "      <td>0</td>\n",
       "      <td>172</td>\n",
       "      <td>0</td>\n",
       "      <td>1.4</td>\n",
       "      <td>2</td>\n",
       "      <td>0</td>\n",
       "      <td>2</td>\n",
       "      <td>1</td>\n",
       "      <td>0</td>\n",
       "      <td>1</td>\n",
       "      <td>0</td>\n",
       "      <td>0</td>\n",
       "    </tr>\n",
       "    <tr>\n",
       "      <th>3</th>\n",
       "      <td>56</td>\n",
       "      <td>1</td>\n",
       "      <td>120</td>\n",
       "      <td>236</td>\n",
       "      <td>0</td>\n",
       "      <td>1</td>\n",
       "      <td>178</td>\n",
       "      <td>0</td>\n",
       "      <td>0.8</td>\n",
       "      <td>2</td>\n",
       "      <td>0</td>\n",
       "      <td>2</td>\n",
       "      <td>1</td>\n",
       "      <td>0</td>\n",
       "      <td>1</td>\n",
       "      <td>0</td>\n",
       "      <td>0</td>\n",
       "    </tr>\n",
       "    <tr>\n",
       "      <th>4</th>\n",
       "      <td>57</td>\n",
       "      <td>0</td>\n",
       "      <td>120</td>\n",
       "      <td>354</td>\n",
       "      <td>0</td>\n",
       "      <td>1</td>\n",
       "      <td>163</td>\n",
       "      <td>1</td>\n",
       "      <td>0.6</td>\n",
       "      <td>2</td>\n",
       "      <td>0</td>\n",
       "      <td>2</td>\n",
       "      <td>1</td>\n",
       "      <td>1</td>\n",
       "      <td>0</td>\n",
       "      <td>0</td>\n",
       "      <td>0</td>\n",
       "    </tr>\n",
       "  </tbody>\n",
       "</table>\n",
       "</div>"
      ],
      "text/plain": [
       "   age  sex  trtbps  chol  fbs  restecg  thalachh  exng  oldpeak  slp  caa  \\\n",
       "0   63    1     145   233    1        0       150     0      2.3    0    0   \n",
       "1   37    1     130   250    0        1       187     0      3.5    0    0   \n",
       "2   41    0     130   204    0        0       172     0      1.4    2    0   \n",
       "3   56    1     120   236    0        1       178     0      0.8    2    0   \n",
       "4   57    0     120   354    0        1       163     1      0.6    2    0   \n",
       "\n",
       "   thall  output  cp_0  cp_1  cp_2  cp_3  \n",
       "0      1       1     0     0     0     1  \n",
       "1      2       1     0     0     1     0  \n",
       "2      2       1     0     1     0     0  \n",
       "3      2       1     0     1     0     0  \n",
       "4      2       1     1     0     0     0  "
      ]
     },
     "execution_count": 10,
     "metadata": {},
     "output_type": "execute_result"
    }
   ],
   "source": [
    "df = pd.get_dummies(df, columns=['cp'], prefix=['cp'], dtype=int)\n",
    "df.head()"
   ]
  },
  {
   "cell_type": "markdown",
   "id": "1f2c764b",
   "metadata": {
    "papermill": {
     "duration": 0.015181,
     "end_time": "2024-04-12T22:24:37.630229",
     "exception": false,
     "start_time": "2024-04-12T22:24:37.615048",
     "status": "completed"
    },
    "tags": []
   },
   "source": [
    "Create the correlation matrix."
   ]
  },
  {
   "cell_type": "code",
   "execution_count": 11,
   "id": "ded21131",
   "metadata": {
    "execution": {
     "iopub.execute_input": "2024-04-12T22:24:37.664009Z",
     "iopub.status.busy": "2024-04-12T22:24:37.663610Z",
     "iopub.status.idle": "2024-04-12T22:24:37.671251Z",
     "shell.execute_reply": "2024-04-12T22:24:37.670085Z"
    },
    "papermill": {
     "duration": 0.027576,
     "end_time": "2024-04-12T22:24:37.673712",
     "exception": false,
     "start_time": "2024-04-12T22:24:37.646136",
     "status": "completed"
    },
    "tags": []
   },
   "outputs": [],
   "source": [
    "correlation_matrix = df.corr()"
   ]
  },
  {
   "cell_type": "code",
   "execution_count": 12,
   "id": "89e12fe5",
   "metadata": {
    "execution": {
     "iopub.execute_input": "2024-04-12T22:24:37.769509Z",
     "iopub.status.busy": "2024-04-12T22:24:37.769073Z",
     "iopub.status.idle": "2024-04-12T22:24:38.900461Z",
     "shell.execute_reply": "2024-04-12T22:24:38.899154Z"
    },
    "papermill": {
     "duration": 1.21437,
     "end_time": "2024-04-12T22:24:38.903956",
     "exception": false,
     "start_time": "2024-04-12T22:24:37.689586",
     "status": "completed"
    },
    "tags": []
   },
   "outputs": [
    {
     "data": {
      "image/png": "[encoded data removed]",
      "text/plain": [
       "<Figure size 800x800 with 2 Axes>"
      ]
     },
     "metadata": {},
     "output_type": "display_data"
    }
   ],
   "source": [
    "plt.figure(figsize=(8, 8))\n",
    "sns.heatmap(correlation_matrix, annot=True, cmap='coolwarm', fmt=\".1f\", square=True)\n",
    "plt.title(\"Correlation Heatmap\")\n",
    "plt.show()"
   ]
  },
  {
   "cell_type": "code",
   "execution_count": 13,
   "id": "37d28686",
   "metadata": {
    "execution": {
     "iopub.execute_input": "2024-04-12T22:24:38.944329Z",
     "iopub.status.busy": "2024-04-12T22:24:38.943678Z",
     "iopub.status.idle": "2024-04-12T22:24:38.952683Z",
     "shell.execute_reply": "2024-04-12T22:24:38.951688Z"
    },
    "papermill": {
     "duration": 0.031885,
     "end_time": "2024-04-12T22:24:38.954974",
     "exception": false,
     "start_time": "2024-04-12T22:24:38.923089",
     "status": "completed"
    },
    "tags": []
   },
   "outputs": [
    {
     "data": {
      "text/plain": [
       "output      1.000000\n",
       "thalachh    0.419955\n",
       "slp         0.343940\n",
       "cp_2        0.313696\n",
       "cp_1        0.247649\n",
       "restecg     0.134874\n",
       "cp_3        0.087959\n",
       "fbs        -0.026826\n",
       "chol       -0.081437\n",
       "trtbps     -0.146269\n",
       "age        -0.221476\n",
       "sex        -0.283609\n",
       "thall      -0.343101\n",
       "caa        -0.408992\n",
       "oldpeak    -0.429146\n",
       "exng       -0.435601\n",
       "cp_0       -0.514626\n",
       "Name: output, dtype: float64"
      ]
     },
     "execution_count": 13,
     "metadata": {},
     "output_type": "execute_result"
    }
   ],
   "source": [
    "df.corr()['output'].sort_values(ascending=False)"
   ]
  },
  {
   "cell_type": "markdown",
   "id": "9e25a98e",
   "metadata": {
    "papermill": {
     "duration": 0.01799,
     "end_time": "2024-04-12T22:24:38.992484",
     "exception": false,
     "start_time": "2024-04-12T22:24:38.974494",
     "status": "completed"
    },
    "tags": []
   },
   "source": [
    "Create input (X) and output (y) data."
   ]
  },
  {
   "cell_type": "code",
   "execution_count": 14,
   "id": "9eb071ef",
   "metadata": {
    "execution": {
     "iopub.execute_input": "2024-04-12T22:24:39.031239Z",
     "iopub.status.busy": "2024-04-12T22:24:39.030517Z",
     "iopub.status.idle": "2024-04-12T22:24:39.036177Z",
     "shell.execute_reply": "2024-04-12T22:24:39.035212Z"
    },
    "papermill": {
     "duration": 0.028095,
     "end_time": "2024-04-12T22:24:39.038856",
     "exception": false,
     "start_time": "2024-04-12T22:24:39.010761",
     "status": "completed"
    },
    "tags": []
   },
   "outputs": [],
   "source": [
    "X = df.drop(labels=[\"output\"], axis=1)\n",
    "y = df.output"
   ]
  },
  {
   "cell_type": "code",
   "execution_count": null,
   "id": "0154443d",
   "metadata": {
    "papermill": {
     "duration": 0.017836,
     "end_time": "2024-04-12T22:24:39.075092",
     "exception": false,
     "start_time": "2024-04-12T22:24:39.057256",
     "status": "completed"
    },
    "tags": []
   },
   "outputs": [],
   "source": []
  },
  {
   "cell_type": "markdown",
   "id": "1110fdc3",
   "metadata": {
    "papermill": {
     "duration": 0.01973,
     "end_time": "2024-04-12T22:24:39.115508",
     "exception": false,
     "start_time": "2024-04-12T22:24:39.095778",
     "status": "completed"
    },
    "tags": []
   },
   "source": [
    "Split the data into a training, and testing set."
   ]
  },
  {
   "cell_type": "code",
   "execution_count": 15,
   "id": "3f6be72e",
   "metadata": {
    "execution": {
     "iopub.execute_input": "2024-04-12T22:24:39.158390Z",
     "iopub.status.busy": "2024-04-12T22:24:39.157569Z",
     "iopub.status.idle": "2024-04-12T22:24:39.171018Z",
     "shell.execute_reply": "2024-04-12T22:24:39.169651Z"
    },
    "papermill": {
     "duration": 0.036739,
     "end_time": "2024-04-12T22:24:39.174058",
     "exception": false,
     "start_time": "2024-04-12T22:24:39.137319",
     "status": "completed"
    },
    "tags": []
   },
   "outputs": [],
   "source": [
    "X_train, X_test, y_train, y_test = train_test_split(X, y, test_size= 0.2, random_state= 0)"
   ]
  },
  {
   "cell_type": "markdown",
   "id": "8f484277",
   "metadata": {
    "papermill": {
     "duration": 0.018523,
     "end_time": "2024-04-12T22:24:39.212221",
     "exception": false,
     "start_time": "2024-04-12T22:24:39.193698",
     "status": "completed"
    },
    "tags": []
   },
   "source": [
    "Feature Scaling."
   ]
  },
  {
   "cell_type": "code",
   "execution_count": 16,
   "id": "4c21cf96",
   "metadata": {
    "execution": {
     "iopub.execute_input": "2024-04-12T22:24:39.250950Z",
     "iopub.status.busy": "2024-04-12T22:24:39.250236Z",
     "iopub.status.idle": "2024-04-12T22:24:39.258197Z",
     "shell.execute_reply": "2024-04-12T22:24:39.257318Z"
    },
    "papermill": {
     "duration": 0.029974,
     "end_time": "2024-04-12T22:24:39.260496",
     "exception": false,
     "start_time": "2024-04-12T22:24:39.230522",
     "status": "completed"
    },
    "tags": []
   },
   "outputs": [
    {
     "data": {
      "text/plain": [
       "Index(['age', 'sex', 'trtbps', 'chol', 'fbs', 'restecg', 'thalachh', 'exng',\n",
       "       'oldpeak', 'slp', 'caa', 'thall', 'output', 'cp_0', 'cp_1', 'cp_2',\n",
       "       'cp_3'],\n",
       "      dtype='object')"
      ]
     },
     "execution_count": 16,
     "metadata": {},
     "output_type": "execute_result"
    }
   ],
   "source": [
    "df.columns"
   ]
  },
  {
   "cell_type": "code",
   "execution_count": 17,
   "id": "bc6e58b5",
   "metadata": {
    "execution": {
     "iopub.execute_input": "2024-04-12T22:24:39.299892Z",
     "iopub.status.busy": "2024-04-12T22:24:39.299012Z",
     "iopub.status.idle": "2024-04-12T22:24:39.311741Z",
     "shell.execute_reply": "2024-04-12T22:24:39.310828Z"
    },
    "papermill": {
     "duration": 0.035096,
     "end_time": "2024-04-12T22:24:39.314358",
     "exception": false,
     "start_time": "2024-04-12T22:24:39.279262",
     "status": "completed"
    },
    "tags": []
   },
   "outputs": [],
   "source": [
    "scaler = StandardScaler()\n",
    "X_train = scaler.fit_transform(X_train)\n",
    "X_test = scaler.transform(X_test)"
   ]
  },
  {
   "cell_type": "markdown",
   "id": "5062ab62",
   "metadata": {
    "papermill": {
     "duration": 0.020041,
     "end_time": "2024-04-12T22:24:39.353328",
     "exception": false,
     "start_time": "2024-04-12T22:24:39.333287",
     "status": "completed"
    },
    "tags": []
   },
   "source": [
    "# <span style=\"color:#5E6997\">Predict Heart Attacks</span> <a class=\"anchor\" id=\"predict\"></a>"
   ]
  },
  {
   "cell_type": "markdown",
   "id": "d87be4a9",
   "metadata": {
    "papermill": {
     "duration": 0.018696,
     "end_time": "2024-04-12T22:24:39.391169",
     "exception": false,
     "start_time": "2024-04-12T22:24:39.372473",
     "status": "completed"
    },
    "tags": []
   },
   "source": [
    "1. Logistic Regression"
   ]
  },
  {
   "cell_type": "code",
   "execution_count": 18,
   "id": "b78f1a55",
   "metadata": {
    "execution": {
     "iopub.execute_input": "2024-04-12T22:24:39.430078Z",
     "iopub.status.busy": "2024-04-12T22:24:39.429652Z",
     "iopub.status.idle": "2024-04-12T22:24:39.451813Z",
     "shell.execute_reply": "2024-04-12T22:24:39.450364Z"
    },
    "papermill": {
     "duration": 0.04413,
     "end_time": "2024-04-12T22:24:39.454284",
     "exception": false,
     "start_time": "2024-04-12T22:24:39.410154",
     "status": "completed"
    },
    "tags": []
   },
   "outputs": [
    {
     "name": "stdout",
     "output_type": "stream",
     "text": [
      "Confusion Matrix : \n",
      " [[23  4]\n",
      " [ 4 30]]\n",
      "\n",
      "\n",
      "The accuracy of Logistic Regression is :  86.88524590163934 %\n"
     ]
    }
   ],
   "source": [
    "model = LogisticRegression()\n",
    "model.fit(X_train, y_train)\n",
    "predicted=model.predict(X_test)\n",
    "conf = confusion_matrix(y_test, predicted)\n",
    "print (\"Confusion Matrix : \\n\", conf)\n",
    "print()\n",
    "print()\n",
    "print (\"The accuracy of Logistic Regression is : \", accuracy_score(y_test, predicted)*100, \"%\")"
   ]
  },
  {
   "cell_type": "markdown",
   "id": "a3b1b89f",
   "metadata": {
    "papermill": {
     "duration": 0.018,
     "end_time": "2024-04-12T22:24:39.490812",
     "exception": false,
     "start_time": "2024-04-12T22:24:39.472812",
     "status": "completed"
    },
    "tags": []
   },
   "source": [
    "2. Gaussian Naive Bayes"
   ]
  },
  {
   "cell_type": "code",
   "execution_count": 19,
   "id": "a45176e9",
   "metadata": {
    "execution": {
     "iopub.execute_input": "2024-04-12T22:24:39.530248Z",
     "iopub.status.busy": "2024-04-12T22:24:39.529224Z",
     "iopub.status.idle": "2024-04-12T22:24:39.539844Z",
     "shell.execute_reply": "2024-04-12T22:24:39.538516Z"
    },
    "papermill": {
     "duration": 0.032974,
     "end_time": "2024-04-12T22:24:39.542281",
     "exception": false,
     "start_time": "2024-04-12T22:24:39.509307",
     "status": "completed"
    },
    "tags": []
   },
   "outputs": [
    {
     "name": "stdout",
     "output_type": "stream",
     "text": [
      "The accuracy of Gaussian Naive Bayes model is :  83.60655737704919 %\n"
     ]
    }
   ],
   "source": [
    "model = GaussianNB()\n",
    "model.fit(X_train, y_train)\n",
    "  \n",
    "predicted = model.predict(X_test)\n",
    "  \n",
    "print(\"The accuracy of Gaussian Naive Bayes model is : \", accuracy_score(y_test, predicted)*100, \"%\")"
   ]
  },
  {
   "cell_type": "markdown",
   "id": "4c45421c",
   "metadata": {
    "papermill": {
     "duration": 0.018756,
     "end_time": "2024-04-12T22:24:39.580103",
     "exception": false,
     "start_time": "2024-04-12T22:24:39.561347",
     "status": "completed"
    },
    "tags": []
   },
   "source": [
    "3.Bernoulli Naive Bayes"
   ]
  },
  {
   "cell_type": "code",
   "execution_count": 20,
   "id": "c1f08cca",
   "metadata": {
    "execution": {
     "iopub.execute_input": "2024-04-12T22:24:39.619594Z",
     "iopub.status.busy": "2024-04-12T22:24:39.619184Z",
     "iopub.status.idle": "2024-04-12T22:24:39.633096Z",
     "shell.execute_reply": "2024-04-12T22:24:39.631804Z"
    },
    "papermill": {
     "duration": 0.036472,
     "end_time": "2024-04-12T22:24:39.635413",
     "exception": false,
     "start_time": "2024-04-12T22:24:39.598941",
     "status": "completed"
    },
    "tags": []
   },
   "outputs": [
    {
     "name": "stdout",
     "output_type": "stream",
     "text": [
      "The accuracy of Gaussian Naive Bayes model is :  88.52459016393442 %\n"
     ]
    }
   ],
   "source": [
    "model = BernoulliNB()\n",
    "model.fit(X_train, y_train)\n",
    "  \n",
    "predicted = model.predict(X_test)\n",
    "  \n",
    "print(\"The accuracy of Gaussian Naive Bayes model is : \", accuracy_score(y_test, predicted)*100, \"%\")"
   ]
  },
  {
   "cell_type": "markdown",
   "id": "a3e0c44b",
   "metadata": {
    "execution": {
     "iopub.execute_input": "2024-03-26T05:02:38.522223Z",
     "iopub.status.busy": "2024-03-26T05:02:38.521768Z",
     "iopub.status.idle": "2024-03-26T05:02:38.529145Z",
     "shell.execute_reply": "2024-03-26T05:02:38.527523Z",
     "shell.execute_reply.started": "2024-03-26T05:02:38.522173Z"
    },
    "papermill": {
     "duration": 0.018879,
     "end_time": "2024-04-12T22:24:39.673780",
     "exception": false,
     "start_time": "2024-04-12T22:24:39.654901",
     "status": "completed"
    },
    "tags": []
   },
   "source": [
    "4. Support Vector Machine"
   ]
  },
  {
   "cell_type": "code",
   "execution_count": 21,
   "id": "4ac082f9",
   "metadata": {
    "execution": {
     "iopub.execute_input": "2024-04-12T22:24:39.713410Z",
     "iopub.status.busy": "2024-04-12T22:24:39.712410Z",
     "iopub.status.idle": "2024-04-12T22:24:39.728343Z",
     "shell.execute_reply": "2024-04-12T22:24:39.727173Z"
    },
    "papermill": {
     "duration": 0.038434,
     "end_time": "2024-04-12T22:24:39.730956",
     "exception": false,
     "start_time": "2024-04-12T22:24:39.692522",
     "status": "completed"
    },
    "tags": []
   },
   "outputs": [
    {
     "name": "stdout",
     "output_type": "stream",
     "text": [
      "The accuracy of SVM is :  91.80327868852459 %\n"
     ]
    }
   ],
   "source": [
    "model = SVC()\n",
    "model.fit(X_train, y_train)\n",
    "  \n",
    "predicted = model.predict(X_test)\n",
    "print(\"The accuracy of SVM is : \", accuracy_score(y_test, predicted)*100, \"%\")"
   ]
  },
  {
   "cell_type": "markdown",
   "id": "7bab10f4",
   "metadata": {
    "papermill": {
     "duration": 0.019184,
     "end_time": "2024-04-12T22:24:39.770357",
     "exception": false,
     "start_time": "2024-04-12T22:24:39.751173",
     "status": "completed"
    },
    "tags": []
   },
   "source": [
    "5. Random Forest"
   ]
  },
  {
   "cell_type": "code",
   "execution_count": 22,
   "id": "32ff92ad",
   "metadata": {
    "execution": {
     "iopub.execute_input": "2024-04-12T22:24:39.810472Z",
     "iopub.status.busy": "2024-04-12T22:24:39.810013Z",
     "iopub.status.idle": "2024-04-12T22:24:40.055223Z",
     "shell.execute_reply": "2024-04-12T22:24:40.053800Z"
    },
    "papermill": {
     "duration": 0.268337,
     "end_time": "2024-04-12T22:24:40.057690",
     "exception": false,
     "start_time": "2024-04-12T22:24:39.789353",
     "status": "completed"
    },
    "tags": []
   },
   "outputs": [
    {
     "name": "stdout",
     "output_type": "stream",
     "text": [
      "The accuracy of Random Forest is :  83.60655737704919 %\n"
     ]
    }
   ],
   "source": [
    "model = RandomForestRegressor(n_estimators = 100, random_state = 0)  \n",
    "model.fit(X_train, y_train)  \n",
    "predicted = model.predict(X_test)\n",
    "print(\"The accuracy of Random Forest is : \", accuracy_score(y_test, predicted.round())*100, \"%\")"
   ]
  },
  {
   "cell_type": "markdown",
   "id": "56ec715f",
   "metadata": {
    "papermill": {
     "duration": 0.018882,
     "end_time": "2024-04-12T22:24:40.095581",
     "exception": false,
     "start_time": "2024-04-12T22:24:40.076699",
     "status": "completed"
    },
    "tags": []
   },
   "source": [
    "6. K Nearest Neighbors"
   ]
  },
  {
   "cell_type": "code",
   "execution_count": 23,
   "id": "c741f552",
   "metadata": {
    "execution": {
     "iopub.execute_input": "2024-04-12T22:24:40.136290Z",
     "iopub.status.busy": "2024-04-12T22:24:40.135871Z",
     "iopub.status.idle": "2024-04-12T22:24:40.217928Z",
     "shell.execute_reply": "2024-04-12T22:24:40.217081Z"
    },
    "papermill": {
     "duration": 0.10498,
     "end_time": "2024-04-12T22:24:40.220358",
     "exception": false,
     "start_time": "2024-04-12T22:24:40.115378",
     "status": "completed"
    },
    "tags": []
   },
   "outputs": [
    {
     "name": "stdout",
     "output_type": "stream",
     "text": [
      "[[23  4]\n",
      " [ 6 28]]\n",
      "The accuracy of KNN is :  83.60655737704919 %\n"
     ]
    }
   ],
   "source": [
    "model = KNeighborsClassifier(n_neighbors = 1)  \n",
    "model.fit(X_train, y_train)\n",
    "predicted = model.predict(X_test)\n",
    "  \n",
    "\n",
    "print(confusion_matrix(y_test, predicted))\n",
    "print(\"The accuracy of KNN is : \", accuracy_score(y_test, predicted.round())*100, \"%\")"
   ]
  },
  {
   "cell_type": "code",
   "execution_count": 24,
   "id": "41257251",
   "metadata": {
    "execution": {
     "iopub.execute_input": "2024-04-12T22:24:40.261256Z",
     "iopub.status.busy": "2024-04-12T22:24:40.260808Z",
     "iopub.status.idle": "2024-04-12T22:24:40.889225Z",
     "shell.execute_reply": "2024-04-12T22:24:40.887466Z"
    },
    "papermill": {
     "duration": 0.652222,
     "end_time": "2024-04-12T22:24:40.892223",
     "exception": false,
     "start_time": "2024-04-12T22:24:40.240001",
     "status": "completed"
    },
    "tags": []
   },
   "outputs": [
    {
     "data": {
      "text/plain": [
       "Text(0, 0.5, 'Error Rate')"
      ]
     },
     "execution_count": 24,
     "metadata": {},
     "output_type": "execute_result"
    },
    {
     "data": {
      "image/png": "[encoded data removed]",
      "text/plain": [
       "<Figure size 1000x600 with 1 Axes>"
      ]
     },
     "metadata": {},
     "output_type": "display_data"
    }
   ],
   "source": [
    "error_rate = []\n",
    "  \n",
    "for i in range(1, 40):\n",
    "      \n",
    "    model = KNeighborsClassifier(n_neighbors = i)\n",
    "    model.fit(X_train, y_train)\n",
    "    pred_i = model.predict(X_test)\n",
    "    error_rate.append(np.mean(pred_i != y_test))\n",
    "  \n",
    "plt.figure(figsize =(10, 6))\n",
    "plt.plot(range(1, 40), error_rate, color ='blue',\n",
    "                linestyle ='dashed', marker ='o',\n",
    "         markerfacecolor ='red', markersize = 10)\n",
    "  \n",
    "plt.title('Error Rate vs. K Value')\n",
    "plt.xlabel('K')\n",
    "plt.ylabel('Error Rate')"
   ]
  },
  {
   "cell_type": "code",
   "execution_count": 25,
   "id": "50607cd4",
   "metadata": {
    "execution": {
     "iopub.execute_input": "2024-04-12T22:24:40.935079Z",
     "iopub.status.busy": "2024-04-12T22:24:40.934585Z",
     "iopub.status.idle": "2024-04-12T22:24:40.956093Z",
     "shell.execute_reply": "2024-04-12T22:24:40.955008Z"
    },
    "papermill": {
     "duration": 0.045752,
     "end_time": "2024-04-12T22:24:40.958569",
     "exception": false,
     "start_time": "2024-04-12T22:24:40.912817",
     "status": "completed"
    },
    "tags": []
   },
   "outputs": [
    {
     "name": "stdout",
     "output_type": "stream",
     "text": [
      "Confusion Matrix :\n",
      "[[25  2]\n",
      " [ 3 31]]\n",
      "\n",
      "\n",
      "The accuracy of KNN is :  91.80327868852459 %\n"
     ]
    }
   ],
   "source": [
    "model = KNeighborsClassifier(n_neighbors = 36)\n",
    "  \n",
    "model.fit(X_train, y_train)\n",
    "predicted = model.predict(X_test)\n",
    "  \n",
    "print('Confusion Matrix :')\n",
    "from sklearn.metrics import classification_report, confusion_matrix\n",
    "print(confusion_matrix(y_test, predicted))\n",
    "\n",
    "print()\n",
    "print()\n",
    "print(\"The accuracy of KNN is : \", accuracy_score(y_test, predicted.round())*100, \"%\")"
   ]
  },
  {
   "cell_type": "markdown",
   "id": "6e0ea9fe",
   "metadata": {
    "papermill": {
     "duration": 0.020189,
     "end_time": "2024-04-12T22:24:40.999443",
     "exception": false,
     "start_time": "2024-04-12T22:24:40.979254",
     "status": "completed"
    },
    "tags": []
   },
   "source": [
    "7. XGBoost"
   ]
  },
  {
   "cell_type": "code",
   "execution_count": 26,
   "id": "99a1ef26",
   "metadata": {
    "execution": {
     "iopub.execute_input": "2024-04-12T22:24:41.042883Z",
     "iopub.status.busy": "2024-04-12T22:24:41.042504Z",
     "iopub.status.idle": "2024-04-12T22:24:41.168945Z",
     "shell.execute_reply": "2024-04-12T22:24:41.168032Z"
    },
    "papermill": {
     "duration": 0.151787,
     "end_time": "2024-04-12T22:24:41.171670",
     "exception": false,
     "start_time": "2024-04-12T22:24:41.019883",
     "status": "completed"
    },
    "tags": []
   },
   "outputs": [
    {
     "name": "stdout",
     "output_type": "stream",
     "text": [
      "\n",
      "The accuracy of X Gradient Boosting is :  80.32786885245902 %\n"
     ]
    }
   ],
   "source": [
    "model = xgb.XGBClassifier(use_label_encoder=False)\n",
    "model.fit(X_train, y_train)\n",
    "   \n",
    "predicted = model.predict(X_test)\n",
    "   \n",
    "cm = confusion_matrix(y_test, predicted)\n",
    "print()\n",
    "print (\"The accuracy of X Gradient Boosting is : \", accuracy_score(y_test, predicted)*100, \"%\")"
   ]
  },
  {
   "cell_type": "code",
   "execution_count": null,
   "id": "412b1060",
   "metadata": {
    "papermill": {
     "duration": 0.020059,
     "end_time": "2024-04-12T22:24:41.213034",
     "exception": false,
     "start_time": "2024-04-12T22:24:41.192975",
     "status": "completed"
    },
    "tags": []
   },
   "outputs": [],
   "source": []
  }
 ],
 "metadata": {
  "kaggle": {
   "accelerator": "none",
   "dataSources": [
    {
     "datasetId": 1226038,
     "sourceId": 2047221,
     "sourceType": "datasetVersion"
    }
   ],
   "dockerImageVersionId": 30664,
   "isGpuEnabled": false,
   "isInternetEnabled": true,
   "language": "python",
   "sourceType": "notebook"
  },
  "kernelspec": {
   "display_name": "Python 3",
   "language": "python",
   "name": "python3"
  },
  "language_info": {
   "codemirror_mode": {
    "name": "ipython",
    "version": 3
   },
   "file_extension": ".py",
   "mimetype": "text/x-python",
   "name": "python",
   "nbconvert_exporter": "python",
   "pygments_lexer": "ipython3",
   "version": "3.10.13"
  },
  "papermill": {
   "default_parameters": {},
   "duration": 11.785883,
   "end_time": "2024-04-12T22:24:41.956623",
   "environment_variables": {},
   "exception": null,
   "input_path": "__notebook__.ipynb",
   "output_path": "__notebook__.ipynb",
   "parameters": {},
   "start_time": "2024-04-12T22:24:30.170740",
   "version": "2.5.0"
  }
 },
 "nbformat": 4,
 "nbformat_minor": 5
}
